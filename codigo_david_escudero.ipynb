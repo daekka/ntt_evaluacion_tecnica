{
 "cells": [
  {
   "cell_type": "markdown",
   "metadata": {},
   "source": [
    "# Evaluación Inicial de Madurez de Capacidades en Ciencia de Datos \n",
    "*David Escudero Cascón - 17/02/205*"
   ]
  },
  {
   "cell_type": "markdown",
   "metadata": {},
   "source": [
    "## Bloque 1"
   ]
  },
  {
   "cell_type": "markdown",
   "metadata": {},
   "source": [
    "### 1. Muestra el directorio sobre el que se está trabajando. Cambia el directorio de trabajo a la carpeta que te han indicado al comienzo de la prueba. \n",
    "- Código en GithUb https://github.com/daekka/ntt_evaluacion_tecnica.git"
   ]
  },
  {
   "cell_type": "markdown",
   "metadata": {},
   "source": [
    "### 2. Carga de paquetes. Verifica si están instalados los siguientes paquetes: Pandas, Seaborn, y Xlrd. Si no están, instálalos.  "
   ]
  },
  {
   "cell_type": "code",
   "execution_count": 3,
   "metadata": {},
   "outputs": [],
   "source": [
    "# pip install pandas seaborn xlrd\n",
    "import pandas as pd\n",
    "import numpy as np\n",
    "import seaborn as sns\n",
    "import xlrd\n",
    "\n",
    "import random\n",
    "import os"
   ]
  },
  {
   "cell_type": "markdown",
   "metadata": {},
   "source": [
    "### 3. Carga las funciones contenidas en el script wilcox1.py "
   ]
  },
  {
   "cell_type": "markdown",
   "metadata": {},
   "source": []
  },
  {
   "cell_type": "code",
   "execution_count": 11,
   "metadata": {},
   "outputs": [],
   "source": [
    "from Wilcox1 import multiplicar_2, al_cuadrado"
   ]
  },
  {
   "cell_type": "markdown",
   "metadata": {},
   "source": [
    "### 4. Establece una semilla para que los resultados sean replicables.  "
   ]
  },
  {
   "cell_type": "code",
   "execution_count": null,
   "metadata": {},
   "outputs": [],
   "source": [
    "semilla = 183530 \n",
    "np.random.seed(semilla)"
   ]
  },
  {
   "cell_type": "markdown",
   "metadata": {},
   "source": [
    "### 5. Crea un nuevo entorno virtual llamado “venv”. No hace falta que instales nada en este entorno nuevo.  \n",
    "```python\n",
    "python -m venv venv\n",
    ".\\venv\\Scripts\\activate\n",
    "deactivate"
   ]
  },
  {
   "cell_type": "markdown",
   "metadata": {},
   "source": [
    "## Bloque 2"
   ]
  },
  {
   "cell_type": "markdown",
   "metadata": {},
   "source": [
    "### 6. Realiza la carga del fichero data_train.csv. Las 373 deben cargarse como string y ser almacenadas en un dataframe denominado raw_datos. "
   ]
  },
  {
   "cell_type": "code",
   "execution_count": 15,
   "metadata": {},
   "outputs": [
    {
     "name": "stdout",
     "output_type": "stream",
     "text": [
      "<class 'pandas.core.frame.DataFrame'>\n",
      "RangeIndex: 38067 entries, 0 to 38066\n",
      "Columns: 373 entries, Unnamed: 0 to Target\n",
      "dtypes: float64(106), int64(267)\n",
      "memory usage: 108.3 MB\n",
      "None\n"
     ]
    }
   ],
   "source": [
    "raw_datos = pd.read_csv('data_train.csv', dtype={'373': str}) # Carla la columna 373 como un string\n",
    "print(raw_datos.info())"
   ]
  },
  {
   "cell_type": "markdown",
   "metadata": {},
   "source": [
    "### 7. ¿Cómo sería la sentencia si los datos proviniesen de un fichero en formato .xlsx?  \n",
    "```raw_datos = pd.read_excel('data_train.xlsx', dtype={'373': str})```"
   ]
  },
  {
   "cell_type": "markdown",
   "metadata": {},
   "source": [
    "### 8. Realiza un análisis descriptivo de todas las variables.  "
   ]
  },
  {
   "cell_type": "code",
   "execution_count": 16,
   "metadata": {},
   "outputs": [
    {
     "name": "stdout",
     "output_type": "stream",
     "text": [
      "         Unnamed: 0             ID          var_1         var_2  \\\n",
      "count  38067.000000   38067.000000   38067.000000  38067.000000   \n",
      "mean   38067.475766   76077.978039   -1652.225392     33.195156   \n",
      "std    21949.451846   43790.423280   40648.334518     12.978500   \n",
      "min        2.000000       3.000000 -999999.000000      5.000000   \n",
      "25%    19060.000000   38220.500000       2.000000     23.000000   \n",
      "50%    38184.000000   76366.000000       2.000000     28.000000   \n",
      "75%    57022.500000  113761.000000       2.000000     39.000000   \n",
      "max    76019.000000  151836.000000     229.000000    102.000000   \n",
      "\n",
      "               var_3         var_4         var_5         var_6         var_7  \\\n",
      "count   38067.000000  38067.000000  38067.000000  38067.000000  38067.000000   \n",
      "mean       93.054568     73.559261    121.735776      3.850514      6.482932   \n",
      "std      1823.051352    338.128485    546.133568    100.239593    142.294533   \n",
      "min         0.000000      0.000000      0.000000      0.000000      0.000000   \n",
      "25%         0.000000      0.000000      0.000000      0.000000      0.000000   \n",
      "50%         0.000000      0.000000      0.000000      0.000000      0.000000   \n",
      "75%         0.000000      0.000000      0.000000      0.000000      0.000000   \n",
      "max    210000.000000   8520.060000  16086.060000   7904.220000   9133.980000   \n",
      "\n",
      "              var_8  ...       var_362        var_363       var_364  \\\n",
      "count  38067.000000  ...  38067.000000   38067.000000  38067.000000   \n",
      "mean       0.353437  ...      1.832371      15.571522     10.815998   \n",
      "std       20.293751  ...    136.799449     988.923643    662.761439   \n",
      "min        0.000000  ...      0.000000       0.000000      0.000000   \n",
      "25%        0.000000  ...      0.000000       0.000000      0.000000   \n",
      "50%        0.000000  ...      0.000000       0.000000      0.000000   \n",
      "75%        0.000000  ...      0.000000       0.000000      0.000000   \n",
      "max     1800.000000  ...  20385.720000  138831.630000  91778.730000   \n",
      "\n",
      "             var_365       var_366        var_367        var_368  \\\n",
      "count   38067.000000  38067.000000   38067.000000   38067.000000   \n",
      "mean       34.764670      2.413646      85.660288      62.994922   \n",
      "std      2579.594407    176.517038    5132.633085    3619.946027   \n",
      "min         0.000000      0.000000       0.000000       0.000000   \n",
      "25%         0.000000      0.000000       0.000000       0.000000   \n",
      "50%         0.000000      0.000000       0.000000       0.000000   \n",
      "75%         0.000000      0.000000       0.000000       0.000000   \n",
      "max    438329.220000  24650.010000  681462.900000  397884.300000   \n",
      "\n",
      "            var_369       var_370        Target  \n",
      "count  3.806700e+04  38067.000000  38067.000000  \n",
      "mean   1.177811e+05      0.116469      0.039746  \n",
      "std    1.919375e+05      0.101543      0.195364  \n",
      "min    8.856210e+03      0.000009      0.000000  \n",
      "25%    6.777505e+04      0.038694      0.000000  \n",
      "50%    1.063928e+05      0.088641      0.000000  \n",
      "75%    1.189894e+05      0.166985      0.000000  \n",
      "max    2.203474e+07      0.763612      1.000000  \n",
      "\n",
      "[8 rows x 373 columns]\n"
     ]
    }
   ],
   "source": [
    "print (raw_datos.describe())"
   ]
  },
  {
   "cell_type": "markdown",
   "metadata": {},
   "source": [
    "### 9. Localiza las variables con datos nulos (NA, NaN) y decide como tratar estas variables.  "
   ]
  },
  {
   "cell_type": "code",
   "execution_count": null,
   "metadata": {},
   "outputs": [],
   "source": []
  }
 ],
 "metadata": {
  "kernelspec": {
   "display_name": "NTTdata",
   "language": "python",
   "name": "python3"
  },
  "language_info": {
   "codemirror_mode": {
    "name": "ipython",
    "version": 3
   },
   "file_extension": ".py",
   "mimetype": "text/x-python",
   "name": "python",
   "nbconvert_exporter": "python",
   "pygments_lexer": "ipython3",
   "version": "3.9.21"
  }
 },
 "nbformat": 4,
 "nbformat_minor": 2
}
