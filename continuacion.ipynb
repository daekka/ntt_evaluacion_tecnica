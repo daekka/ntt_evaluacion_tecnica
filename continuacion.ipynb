{
 "cells": [
  {
   "cell_type": "code",
   "execution_count": 5,
   "metadata": {},
   "outputs": [
    {
     "name": "stdout",
     "output_type": "stream",
     "text": [
      "       Unnamed: 0      ID  var_1  var_2  var_3   var_4   var_5  var_6  var_7  \\\n",
      "0               2       3      2     34    0.0    0.00    0.00    0.0    0.0   \n",
      "1               7      14      2     27    0.0    0.00    0.00    0.0    0.0   \n",
      "2               8      18      2     26    0.0    0.00    0.00    0.0    0.0   \n",
      "3              10      23      2     25    0.0    0.00    0.00    0.0    0.0   \n",
      "4              12      26      2     26    0.0    0.00    0.00    0.0    0.0   \n",
      "...           ...     ...    ...    ...    ...     ...     ...    ...    ...   \n",
      "38062       43187   86463      2     36    0.0  176.79  176.79    0.0    0.0   \n",
      "38063       56100  111953      2     27    0.0    0.00    0.00    0.0    0.0   \n",
      "38064       43695   87523      2     26    0.0    0.00    0.00    0.0    0.0   \n",
      "38065        8115   16373      2     32    0.0    0.00    0.00    0.0    0.0   \n",
      "38066       51281  102362      2     23    0.0    0.00    0.00    0.0    0.0   \n",
      "\n",
      "       var_8  ...  var_362  var_363  var_364  var_365  var_366  var_367  \\\n",
      "0        0.0  ...      0.0      0.0      0.0      0.0      0.0      0.0   \n",
      "1        0.0  ...      0.0      0.0      0.0      0.0      0.0      0.0   \n",
      "2        0.0  ...      0.0      0.0      0.0      0.0      0.0      0.0   \n",
      "3        0.0  ...      0.0      0.0      0.0      0.0      0.0      0.0   \n",
      "4        0.0  ...      0.0      0.0      0.0      0.0      0.0      0.0   \n",
      "...      ...  ...      ...      ...      ...      ...      ...      ...   \n",
      "38062    0.0  ...      0.0      0.0      0.0      0.0      0.0      0.0   \n",
      "38063    0.0  ...      0.0      0.0      0.0      0.0      0.0      0.0   \n",
      "38064    0.0  ...      0.0      0.0      0.0      0.0      0.0      0.0   \n",
      "38065    0.0  ...      0.0      0.0      0.0      0.0      0.0      0.0   \n",
      "38066    0.0  ...      0.0      0.0      0.0      0.0      0.0      0.0   \n",
      "\n",
      "       var_368        var_369   var_370  Target  \n",
      "0          0.0   49278.030000  0.012858       0  \n",
      "1          0.0   94956.660000  0.391089       0  \n",
      "2          0.0  251638.950000  0.300590       0  \n",
      "3          0.0  356463.060000  0.022430       0  \n",
      "4          0.0   75368.520000  0.004120       0  \n",
      "...        ...            ...       ...     ...  \n",
      "38062      0.0   58191.720000  0.053754       0  \n",
      "38063      0.0  117310.979016  0.146080       0  \n",
      "38064      0.0  131701.590000  0.010387       0  \n",
      "38065      0.0   72124.830000  0.275760       0  \n",
      "38066      0.0   58750.530000  0.210024       0  \n",
      "\n",
      "[38067 rows x 373 columns]\n"
     ]
    }
   ],
   "source": [
    "import pandas as pd\n",
    "import numpy as np\n",
    "import unittest\n",
    "import pycaret\n",
    "src_train = pd.read_csv('data_train.csv', dtype={'ID': str})\n",
    "print (src_train)"
   ]
  },
  {
   "cell_type": "markdown",
   "metadata": {},
   "source": [
    "### 18. Sobre la variables “var_370”, genera dos variables nuevas:\n",
    "    a. Aplicando el logaritmo con base mediana.\n",
    "    b. Normalizando dicha variable. "
   ]
  },
  {
   "cell_type": "code",
   "execution_count": null,
   "metadata": {},
   "outputs": [
    {
     "name": "stdout",
     "output_type": "stream",
     "text": [
      "       Unnamed: 0      ID  var_1  var_2  var_3   var_4   var_5  var_6  var_7  \\\n",
      "0               2       3      2     34    0.0    0.00    0.00    0.0    0.0   \n",
      "1               7      14      2     27    0.0    0.00    0.00    0.0    0.0   \n",
      "2               8      18      2     26    0.0    0.00    0.00    0.0    0.0   \n",
      "3              10      23      2     25    0.0    0.00    0.00    0.0    0.0   \n",
      "4              12      26      2     26    0.0    0.00    0.00    0.0    0.0   \n",
      "...           ...     ...    ...    ...    ...     ...     ...    ...    ...   \n",
      "38062       43187   86463      2     36    0.0  176.79  176.79    0.0    0.0   \n",
      "38063       56100  111953      2     27    0.0    0.00    0.00    0.0    0.0   \n",
      "38064       43695   87523      2     26    0.0    0.00    0.00    0.0    0.0   \n",
      "38065        8115   16373      2     32    0.0    0.00    0.00    0.0    0.0   \n",
      "38066       51281  102362      2     23    0.0    0.00    0.00    0.0    0.0   \n",
      "\n",
      "       var_8  ...  var_364  var_365  var_366  var_367  var_368        var_369  \\\n",
      "0        0.0  ...      0.0      0.0      0.0      0.0      0.0   49278.030000   \n",
      "1        0.0  ...      0.0      0.0      0.0      0.0      0.0   94956.660000   \n",
      "2        0.0  ...      0.0      0.0      0.0      0.0      0.0  251638.950000   \n",
      "3        0.0  ...      0.0      0.0      0.0      0.0      0.0  356463.060000   \n",
      "4        0.0  ...      0.0      0.0      0.0      0.0      0.0   75368.520000   \n",
      "...      ...  ...      ...      ...      ...      ...      ...            ...   \n",
      "38062    0.0  ...      0.0      0.0      0.0      0.0      0.0   58191.720000   \n",
      "38063    0.0  ...      0.0      0.0      0.0      0.0      0.0  117310.979016   \n",
      "38064    0.0  ...      0.0      0.0      0.0      0.0      0.0  131701.590000   \n",
      "38065    0.0  ...      0.0      0.0      0.0      0.0      0.0   72124.830000   \n",
      "38066    0.0  ...      0.0      0.0      0.0      0.0      0.0   58750.530000   \n",
      "\n",
      "        var_370  Target  var_370_log_med  var_370_norm  \n",
      "0      0.012858       0         1.796752      0.016827  \n",
      "1      0.391089       0         0.387437      0.512151  \n",
      "2      0.300590       0         0.496050      0.393636  \n",
      "3      0.022430       0         1.567114      0.029362  \n",
      "4      0.004120       0         2.266429      0.005384  \n",
      "...         ...     ...              ...           ...  \n",
      "38062  0.053754       0         1.206417      0.070384  \n",
      "38063  0.146080       0         0.793841      0.191292  \n",
      "38064  0.010387       0         1.884796      0.013592  \n",
      "38065  0.275760       0         0.531630      0.361119  \n",
      "38066  0.210024       0         0.644009      0.275031  \n",
      "\n",
      "[38067 rows x 375 columns]\n"
     ]
    }
   ],
   "source": [
    "# 1. Función para aplicar logaritmo en base mediana\n",
    "def logaritmo_base_mediana(df, columna):\n",
    "    \n",
    "    mediana = df[columna].median()\n",
    "    if mediana <= 0:\n",
    "        raise ValueError(\"La mediana debe ser mayor que 0 para aplicar logaritmo.\")\n",
    "\n",
    "    df[columna + '_log_med'] = np.log(df[columna]) / np.log(mediana)\n",
    "    return df\n",
    "\n",
    "\n",
    "# 2. Función para normalizar una variable\n",
    "def normalizar_variable(df, columna, metodo=\"minmax\"):\n",
    "\n",
    "    if metodo == \"zscore\":\n",
    "        media = df[columna].mean()\n",
    "        std = df[columna].std()\n",
    "        df[columna + '_norm'] = (df[columna] - media) / std\n",
    "    \n",
    "    elif metodo == \"minmax\":\n",
    "        min_val = df[columna].min()\n",
    "        max_val = df[columna].max()\n",
    "        df[columna + '_norm'] = (df[columna] - min_val) / (max_val - min_val)\n",
    "    \n",
    "    else:\n",
    "        raise ValueError(\"Método no válido. Usa 'zscore' o 'minmax'.\")\n",
    "    \n",
    "    return df\n",
    "\n",
    "src_train = logaritmo_base_mediana(src_train, \"var_370\")\n",
    "src_train = normalizar_variable (src_train, \"var_370\")\n",
    "print (src_train)"
   ]
  },
  {
   "cell_type": "markdown",
   "metadata": {},
   "source": [
    "### 19. Construye una función que reciba una serie de datos (como puede ser una variable en un dataset) y devuelva esa serie normalizada entre 0 y 1. Además la función tiene que comprobar que el formato de la variable de entrada es una serie y elevar un error en caso contrario. Ejecuta esta función sobre la variable que consideres. "
   ]
  },
  {
   "cell_type": "code",
   "execution_count": null,
   "metadata": {},
   "outputs": [
    {
     "name": "stdout",
     "output_type": "stream",
     "text": [
      "0        0.016827\n",
      "1        0.512151\n",
      "2        0.393636\n",
      "3        0.029362\n",
      "4        0.005384\n",
      "           ...   \n",
      "38062    0.070384\n",
      "38063    0.191292\n",
      "38064    0.013592\n",
      "38065    0.361119\n",
      "38066    0.275031\n",
      "Name: var_370, Length: 38067, dtype: float64\n"
     ]
    }
   ],
   "source": [
    "\n",
    "def normalizar_serie(serie):\n",
    "    if not isinstance(serie, pd.Series):\n",
    "        raise TypeError(\"La entrada debe ser una serie de Pandas\")\n",
    "    \n",
    "    min_val = serie.min()\n",
    "    max_val = serie.max()\n",
    "    \n",
    "    if min_val == max_val:\n",
    "        return serie.apply(lambda x: 0)  # Evita la división por cero en caso de valores constantes\n",
    "    \n",
    "    return (serie - min_val) / (max_val - min_val)\n",
    "\n",
    "\n",
    "data = pd.Series([10, 20, 30, 40, 50])\n",
    "serie_normalizada = normalizar_serie(src_train['var_370'])\n",
    "print (serie_normalizada)"
   ]
  },
  {
   "cell_type": "markdown",
   "metadata": {},
   "source": [
    "### 20. Genera los test unitarios que consideres para comprobar el funcionamiento correcto de la función anterior. "
   ]
  },
  {
   "cell_type": "code",
   "execution_count": null,
   "metadata": {},
   "outputs": [
    {
     "name": "stdout",
     "output_type": "stream",
     "text": [
      "Correcto\n",
      "Correcto\n"
     ]
    },
    {
     "ename": "TypeError",
     "evalue": "La entrada debe ser una serie de Pandas",
     "output_type": "error",
     "traceback": [
      "\u001b[1;31m---------------------------------------------------------------------------\u001b[0m",
      "\u001b[1;31mTypeError\u001b[0m                                 Traceback (most recent call last)",
      "Cell \u001b[1;32mIn[24], line 22\u001b[0m\n\u001b[0;32m     20\u001b[0m \u001b[38;5;66;03m# No serie\u001b[39;00m\n\u001b[0;32m     21\u001b[0m serie \u001b[38;5;241m=\u001b[39m [\u001b[38;5;241m10\u001b[39m, \u001b[38;5;241m20\u001b[39m, \u001b[38;5;241m30\u001b[39m, \u001b[38;5;241m40\u001b[39m, \u001b[38;5;241m50\u001b[39m]\n\u001b[1;32m---> 22\u001b[0m resultado \u001b[38;5;241m=\u001b[39m normalizar_serie(serie)\n",
      "Cell \u001b[1;32mIn[13], line 3\u001b[0m, in \u001b[0;36mnormalizar_serie\u001b[1;34m(serie)\u001b[0m\n\u001b[0;32m      1\u001b[0m \u001b[38;5;28;01mdef\u001b[39;00m \u001b[38;5;21mnormalizar_serie\u001b[39m(serie):\n\u001b[0;32m      2\u001b[0m     \u001b[38;5;28;01mif\u001b[39;00m \u001b[38;5;129;01mnot\u001b[39;00m \u001b[38;5;28misinstance\u001b[39m(serie, pd\u001b[38;5;241m.\u001b[39mSeries):\n\u001b[1;32m----> 3\u001b[0m         \u001b[38;5;28;01mraise\u001b[39;00m \u001b[38;5;167;01mTypeError\u001b[39;00m(\u001b[38;5;124m\"\u001b[39m\u001b[38;5;124mLa entrada debe ser una serie de Pandas\u001b[39m\u001b[38;5;124m\"\u001b[39m)\n\u001b[0;32m      5\u001b[0m     min_val \u001b[38;5;241m=\u001b[39m serie\u001b[38;5;241m.\u001b[39mmin()\n\u001b[0;32m      6\u001b[0m     max_val \u001b[38;5;241m=\u001b[39m serie\u001b[38;5;241m.\u001b[39mmax()\n",
      "\u001b[1;31mTypeError\u001b[0m: La entrada debe ser una serie de Pandas"
     ]
    }
   ],
   "source": [
    "serie = pd.Series([10, 20, 30, 40, 50])\n",
    "resultado = normalizar_serie(serie)\n",
    "esperado = pd.Series([0.0, 0.25, 0.5, 0.75, 1.0])\n",
    "if resultado.equals(esperado):\n",
    "    print(\"Correcto\")\n",
    "else:\n",
    "    print(\"Incorrecto\")\n",
    "\n",
    "serie = pd.Series([5, 5, 5, 5])\n",
    "resultado = normalizar_serie(serie)\n",
    "esperado = pd.Series([0, 0, 0, 0])\n",
    "if resultado.equals(esperado):\n",
    "    print(\"Correcto\")\n",
    "else:\n",
    "    print(\"Incorrecto\")\n",
    "\n",
    "\n",
    "# No serie\n",
    "serie = [10, 20, 30, 40, 50]\n",
    "resultado = normalizar_serie(serie)"
   ]
  },
  {
   "cell_type": "markdown",
   "metadata": {},
   "source": [
    "### 21. Genera un dataframe con las siguientes variables: 'ID', 'var_2', 'var_276', 'var_325', 'var_278', 'var_275', 'var_280', 'var_327', 'var_63', 'var_369', 'var_1', 'var_279', 'var_340', 'var_339', 'var_165', 'var_177', 'var_172', 'var_168', 'var_114', 'var_47', 'var_105', 'var_194', 'Target', además incluye las variables sintéticas generadas en la pregunta anterior.Guárdalo en un archivo csv que se llame vun_train.csv"
   ]
  },
  {
   "cell_type": "code",
   "execution_count": null,
   "metadata": {},
   "outputs": [],
   "source": [
    "    var_2_normalizada = normalizar_serie(src_train['var_2'])\n",
    "    columnas_seleccionadas = [\n",
    "        'ID', 'var_2', 'var_276', 'var_325', 'var_278', 'var_275', 'var_280', 'var_327',\n",
    "        'var_63', 'var_369', 'var_1', 'var_279', 'var_340', 'var_339', 'var_165', 'var_177',\n",
    "        'var_172', 'var_168', 'var_114', 'var_47', 'var_105', 'var_194', 'Target'\n",
    "    ]\n",
    "    \n",
    "    vun_train = src_train[columnas_seleccionadas].copy()\n",
    "    vun_train['var_2_normalizada'] = var_2_normalizada.values\n",
    "    vun_train.to_csv('vun_train.csv')"
   ]
  },
  {
   "cell_type": "markdown",
   "metadata": {},
   "source": [
    "## 4. Bloque 4. Modelización"
   ]
  },
  {
   "cell_type": "markdown",
   "metadata": {},
   "source": [
    "### 22. Vuelve a cargar el archivo vun_train.csv sobre la variable vun_train."
   ]
  },
  {
   "cell_type": "code",
   "execution_count": 19,
   "metadata": {},
   "outputs": [
    {
     "name": "stdout",
     "output_type": "stream",
     "text": [
      "           ID  var_2  var_276  var_325  var_278  var_275  var_280  var_327  \\\n",
      "0           3     34        0        0        0        0        0        0   \n",
      "1          14     27        0        0        0        0        0        0   \n",
      "2          18     26        0        0        0        0        0        0   \n",
      "3          23     25        0        0        0        0        0        0   \n",
      "4          26     26        0        0        0        0        0        0   \n",
      "...       ...    ...      ...      ...      ...      ...      ...      ...   \n",
      "38062   86463     36        0        9        3        3        9       27   \n",
      "38063  111953     27        0        0        0        0        0        0   \n",
      "38064   87523     26        0        0        0        0        0        0   \n",
      "38065   16373     32        0        0        0        0        0        0   \n",
      "38066  102362     23        0        0        0        0        0        0   \n",
      "\n",
      "       var_63        var_369  ...  var_165  var_177  var_172  var_168  \\\n",
      "0           1   49278.030000  ...     0.00      0.0    300.0      0.0   \n",
      "1           1   94956.660000  ...     3.00      0.0      0.0      0.0   \n",
      "2           1  251638.950000  ...     3.00      0.0      0.0      0.0   \n",
      "3           1  356463.060000  ...     3.00      0.0      0.0      0.0   \n",
      "4           1   75368.520000  ...     0.00      0.0      0.0      0.0   \n",
      "...       ...            ...  ...      ...      ...      ...      ...   \n",
      "38062       1   58191.720000  ...  4555.98      0.0      0.0      0.0   \n",
      "38063       1  117310.979016  ...    90.00      0.0      0.0      0.0   \n",
      "38064       1  131701.590000  ...     0.00      0.0      0.0      0.0   \n",
      "38065       1   72124.830000  ...     3.00      0.0      0.0      0.0   \n",
      "38066       1   58750.530000  ...    90.00      0.0      0.0      0.0   \n",
      "\n",
      "       var_114  var_47  var_105  var_194  Target  var_2_normalizada  \n",
      "0            0       0        3        3       0           0.298969  \n",
      "1            0       0        0        3       0           0.226804  \n",
      "2            0       0        0        2       0           0.216495  \n",
      "3            0       0        0        2       0           0.206186  \n",
      "4            0       0        0       99       0           0.216495  \n",
      "...        ...     ...      ...      ...     ...                ...  \n",
      "38062        0       0        0        2       0           0.319588  \n",
      "38063        0       0        0        3       0           0.226804  \n",
      "38064        0       0        0       99       0           0.216495  \n",
      "38065        0       0        0        3       0           0.278351  \n",
      "38066        0       0        0        3       0           0.185567  \n",
      "\n",
      "[38067 rows x 24 columns]\n"
     ]
    }
   ],
   "source": [
    "vun_train = pd.read_csv('vun_train.csv')\n",
    "vun_train = vun_train.iloc[:, 1:]\n",
    "print (vun_train)"
   ]
  },
  {
   "cell_type": "markdown",
   "metadata": {},
   "source": [
    "### 23. Separa el dataframe vun_train en dos: uno de entrenamiento y otro de validación, con el 70% y el 30% de los registros respectivamente. "
   ]
  },
  {
   "cell_type": "code",
   "execution_count": 11,
   "metadata": {},
   "outputs": [],
   "source": [
    "semilla = 183530\n",
    "from sklearn.model_selection import train_test_split\n",
    "import numpy as np\n",
    "# Dividir en entrenamiento (70%) y prueba (30%)\n",
    "train_df, test_df = train_test_split(vun_train, test_size=0.3, random_state=semilla)"
   ]
  },
  {
   "cell_type": "markdown",
   "metadata": {},
   "source": [
    "### 24. Realiza un modelo de regresión logística con las variables que consideres oportunas. Interpreta los resultados en función de los p-valores."
   ]
  },
  {
   "cell_type": "code",
   "execution_count": null,
   "metadata": {},
   "outputs": [
    {
     "ename": "TypeError",
     "evalue": "setup() got an unexpected keyword argument 'fix_imbalance'",
     "output_type": "error",
     "traceback": [
      "\u001b[1;31m---------------------------------------------------------------------------\u001b[0m",
      "\u001b[1;31mTypeError\u001b[0m                                 Traceback (most recent call last)",
      "Cell \u001b[1;32mIn[21], line 4\u001b[0m\n\u001b[0;32m      1\u001b[0m \u001b[38;5;66;03m# Se usa PYCARET: librería low-code para aprendizaje automático\u001b[39;00m\n\u001b[0;32m      2\u001b[0m \u001b[38;5;66;03m# Configuración PYCARET\u001b[39;00m\n\u001b[0;32m      3\u001b[0m \u001b[38;5;28;01mfrom\u001b[39;00m\u001b[38;5;250m \u001b[39m\u001b[38;5;21;01mpycaret\u001b[39;00m\u001b[38;5;21;01m.\u001b[39;00m\u001b[38;5;21;01mregression\u001b[39;00m\u001b[38;5;250m \u001b[39m\u001b[38;5;28;01mimport\u001b[39;00m \u001b[38;5;241m*\u001b[39m\n\u001b[1;32m----> 4\u001b[0m s \u001b[38;5;241m=\u001b[39m \u001b[43msetup\u001b[49m\u001b[43m(\u001b[49m\u001b[43mdata\u001b[49m\u001b[43m \u001b[49m\u001b[38;5;241;43m=\u001b[39;49m\u001b[43m \u001b[49m\u001b[43mtrain_df\u001b[49m\u001b[43m,\u001b[49m\u001b[43m \u001b[49m\u001b[43mtarget\u001b[49m\u001b[43m \u001b[49m\u001b[38;5;241;43m=\u001b[39;49m\u001b[43m \u001b[49m\u001b[38;5;124;43m'\u001b[39;49m\u001b[38;5;124;43mTarget\u001b[39;49m\u001b[38;5;124;43m'\u001b[39;49m\u001b[43m,\u001b[49m\u001b[43m \u001b[49m\u001b[43msession_id\u001b[49m\u001b[43m \u001b[49m\u001b[38;5;241;43m=\u001b[39;49m\u001b[43m \u001b[49m\u001b[43msemilla\u001b[49m\u001b[43m,\u001b[49m\u001b[43m \u001b[49m\u001b[43mnormalize\u001b[49m\u001b[38;5;241;43m=\u001b[39;49m\u001b[43m \u001b[49m\u001b[38;5;28;43;01mTrue\u001b[39;49;00m\u001b[43m,\u001b[49m\u001b[43m \u001b[49m\u001b[43mremove_outliers\u001b[49m\u001b[43m \u001b[49m\u001b[38;5;241;43m=\u001b[39;49m\u001b[43m \u001b[49m\u001b[38;5;28;43;01mTrue\u001b[39;49;00m\u001b[43m,\u001b[49m\u001b[43m \u001b[49m\u001b[43mfeature_selection\u001b[49m\u001b[43m \u001b[49m\u001b[38;5;241;43m=\u001b[39;49m\u001b[43m \u001b[49m\u001b[38;5;28;43;01mTrue\u001b[39;49;00m\u001b[43m,\u001b[49m\u001b[43m \u001b[49m\u001b[43mimputation_type\u001b[49m\u001b[43m \u001b[49m\u001b[38;5;241;43m=\u001b[39;49m\u001b[43m \u001b[49m\u001b[38;5;28;43;01mTrue\u001b[39;49;00m\u001b[43m,\u001b[49m\u001b[43m \u001b[49m\u001b[43mnumeric_imputation\u001b[49m\u001b[43m \u001b[49m\u001b[38;5;241;43m=\u001b[39;49m\u001b[43m \u001b[49m\u001b[38;5;124;43m'\u001b[39;49m\u001b[38;5;124;43mmean\u001b[39;49m\u001b[38;5;124;43m'\u001b[39;49m\u001b[43m,\u001b[49m\u001b[43m \u001b[49m\u001b[43mfix_imbalance\u001b[49m\u001b[43m \u001b[49m\u001b[38;5;241;43m=\u001b[39;49m\u001b[43m \u001b[49m\u001b[38;5;28;43;01mTrue\u001b[39;49;00m\u001b[43m)\u001b[49m\n",
      "\u001b[1;31mTypeError\u001b[0m: setup() got an unexpected keyword argument 'fix_imbalance'"
     ]
    }
   ],
   "source": [
    "# Se usa PYCARET: librería low-code para aprendizaje automático\n",
    "# Configuración PYCARET\n",
    "from pycaret.regression import *\n",
    "s = setup(data = train_df, target = 'Target', session_id = semilla, normalize= True, remove_outliers = True, feature_selection = True, imputation_type = True, numeric_imputation = 'mean')"
   ]
  },
  {
   "cell_type": "code",
   "execution_count": null,
   "metadata": {},
   "outputs": [
    {
     "data": {
      "text/html": [],
      "text/plain": [
       "<IPython.core.display.HTML object>"
      ]
     },
     "metadata": {},
     "output_type": "display_data"
    },
    {
     "data": {
      "text/html": [
       "<style type=\"text/css\">\n",
       "#T_35edb th {\n",
       "  text-align: left;\n",
       "}\n",
       "#T_35edb_row0_col0, #T_35edb_row0_col1, #T_35edb_row0_col6, #T_35edb_row1_col0, #T_35edb_row1_col1, #T_35edb_row1_col2, #T_35edb_row1_col3, #T_35edb_row1_col4, #T_35edb_row1_col5, #T_35edb_row1_col6, #T_35edb_row2_col0, #T_35edb_row2_col1, #T_35edb_row2_col2, #T_35edb_row2_col3, #T_35edb_row2_col4, #T_35edb_row2_col5, #T_35edb_row2_col6, #T_35edb_row3_col0, #T_35edb_row3_col1, #T_35edb_row3_col2, #T_35edb_row3_col3, #T_35edb_row3_col4, #T_35edb_row3_col5, #T_35edb_row3_col6, #T_35edb_row4_col0, #T_35edb_row4_col1, #T_35edb_row4_col2, #T_35edb_row4_col3, #T_35edb_row4_col4, #T_35edb_row4_col5, #T_35edb_row4_col6, #T_35edb_row5_col0, #T_35edb_row5_col1, #T_35edb_row5_col2, #T_35edb_row5_col3, #T_35edb_row5_col4, #T_35edb_row5_col5, #T_35edb_row5_col6, #T_35edb_row6_col0, #T_35edb_row6_col1, #T_35edb_row6_col2, #T_35edb_row6_col3, #T_35edb_row6_col4, #T_35edb_row6_col5, #T_35edb_row6_col6, #T_35edb_row7_col0, #T_35edb_row7_col1, #T_35edb_row7_col2, #T_35edb_row7_col3, #T_35edb_row7_col4, #T_35edb_row7_col5, #T_35edb_row7_col6, #T_35edb_row8_col0, #T_35edb_row8_col1, #T_35edb_row8_col2, #T_35edb_row8_col3, #T_35edb_row8_col4, #T_35edb_row8_col5, #T_35edb_row8_col6, #T_35edb_row9_col0, #T_35edb_row9_col1, #T_35edb_row9_col2, #T_35edb_row9_col3, #T_35edb_row9_col4, #T_35edb_row9_col5, #T_35edb_row9_col6, #T_35edb_row10_col0, #T_35edb_row10_col1, #T_35edb_row10_col2, #T_35edb_row10_col3, #T_35edb_row10_col4, #T_35edb_row10_col5, #T_35edb_row10_col6, #T_35edb_row11_col0, #T_35edb_row11_col1, #T_35edb_row11_col2, #T_35edb_row11_col3, #T_35edb_row11_col4, #T_35edb_row11_col5, #T_35edb_row11_col6, #T_35edb_row12_col0, #T_35edb_row12_col2, #T_35edb_row12_col3, #T_35edb_row12_col4, #T_35edb_row12_col5, #T_35edb_row12_col6, #T_35edb_row13_col0, #T_35edb_row13_col1, #T_35edb_row13_col2, #T_35edb_row13_col3, #T_35edb_row13_col4, #T_35edb_row13_col5, #T_35edb_row14_col0, #T_35edb_row14_col1, #T_35edb_row14_col2, #T_35edb_row14_col3, #T_35edb_row14_col4, #T_35edb_row14_col5, #T_35edb_row14_col6, #T_35edb_row15_col0, #T_35edb_row15_col1, #T_35edb_row15_col2, #T_35edb_row15_col3, #T_35edb_row15_col4, #T_35edb_row15_col5, #T_35edb_row15_col6, #T_35edb_row16_col0, #T_35edb_row16_col1, #T_35edb_row16_col2, #T_35edb_row16_col3, #T_35edb_row16_col4, #T_35edb_row16_col5, #T_35edb_row16_col6, #T_35edb_row17_col0, #T_35edb_row17_col1, #T_35edb_row17_col2, #T_35edb_row17_col3, #T_35edb_row17_col4, #T_35edb_row17_col5, #T_35edb_row17_col6 {\n",
       "  text-align: left;\n",
       "}\n",
       "#T_35edb_row0_col2, #T_35edb_row0_col3, #T_35edb_row0_col4, #T_35edb_row0_col5, #T_35edb_row12_col1, #T_35edb_row13_col6 {\n",
       "  text-align: left;\n",
       "  background-color: yellow;\n",
       "}\n",
       "#T_35edb_row0_col7, #T_35edb_row1_col7, #T_35edb_row2_col7, #T_35edb_row3_col7, #T_35edb_row4_col7, #T_35edb_row6_col7, #T_35edb_row7_col7, #T_35edb_row8_col7, #T_35edb_row9_col7, #T_35edb_row10_col7, #T_35edb_row11_col7, #T_35edb_row12_col7, #T_35edb_row13_col7, #T_35edb_row14_col7, #T_35edb_row15_col7, #T_35edb_row16_col7, #T_35edb_row17_col7 {\n",
       "  text-align: left;\n",
       "  background-color: lightgrey;\n",
       "}\n",
       "#T_35edb_row5_col7 {\n",
       "  text-align: left;\n",
       "  background-color: yellow;\n",
       "  background-color: lightgrey;\n",
       "}\n",
       "</style>\n",
       "<table id=\"T_35edb\">\n",
       "  <thead>\n",
       "    <tr>\n",
       "      <th class=\"blank level0\" >&nbsp;</th>\n",
       "      <th id=\"T_35edb_level0_col0\" class=\"col_heading level0 col0\" >Model</th>\n",
       "      <th id=\"T_35edb_level0_col1\" class=\"col_heading level0 col1\" >MAE</th>\n",
       "      <th id=\"T_35edb_level0_col2\" class=\"col_heading level0 col2\" >MSE</th>\n",
       "      <th id=\"T_35edb_level0_col3\" class=\"col_heading level0 col3\" >RMSE</th>\n",
       "      <th id=\"T_35edb_level0_col4\" class=\"col_heading level0 col4\" >R2</th>\n",
       "      <th id=\"T_35edb_level0_col5\" class=\"col_heading level0 col5\" >RMSLE</th>\n",
       "      <th id=\"T_35edb_level0_col6\" class=\"col_heading level0 col6\" >MAPE</th>\n",
       "      <th id=\"T_35edb_level0_col7\" class=\"col_heading level0 col7\" >TT (Sec)</th>\n",
       "    </tr>\n",
       "  </thead>\n",
       "  <tbody>\n",
       "    <tr>\n",
       "      <th id=\"T_35edb_level0_row0\" class=\"row_heading level0 row0\" >gbr</th>\n",
       "      <td id=\"T_35edb_row0_col0\" class=\"data row0 col0\" >Gradient Boosting Regressor</td>\n",
       "      <td id=\"T_35edb_row0_col1\" class=\"data row0 col1\" >0.0757</td>\n",
       "      <td id=\"T_35edb_row0_col2\" class=\"data row0 col2\" >0.0368</td>\n",
       "      <td id=\"T_35edb_row0_col3\" class=\"data row0 col3\" >0.1915</td>\n",
       "      <td id=\"T_35edb_row0_col4\" class=\"data row0 col4\" >0.0427</td>\n",
       "      <td id=\"T_35edb_row0_col5\" class=\"data row0 col5\" >0.1343</td>\n",
       "      <td id=\"T_35edb_row0_col6\" class=\"data row0 col6\" >0.9055</td>\n",
       "      <td id=\"T_35edb_row0_col7\" class=\"data row0 col7\" >0.8100</td>\n",
       "    </tr>\n",
       "    <tr>\n",
       "      <th id=\"T_35edb_level0_row1\" class=\"row_heading level0 row1\" >ada</th>\n",
       "      <td id=\"T_35edb_row1_col0\" class=\"data row1 col0\" >AdaBoost Regressor</td>\n",
       "      <td id=\"T_35edb_row1_col1\" class=\"data row1 col1\" >0.0760</td>\n",
       "      <td id=\"T_35edb_row1_col2\" class=\"data row1 col2\" >0.0371</td>\n",
       "      <td id=\"T_35edb_row1_col3\" class=\"data row1 col3\" >0.1924</td>\n",
       "      <td id=\"T_35edb_row1_col4\" class=\"data row1 col4\" >0.0340</td>\n",
       "      <td id=\"T_35edb_row1_col5\" class=\"data row1 col5\" >0.1352</td>\n",
       "      <td id=\"T_35edb_row1_col6\" class=\"data row1 col6\" >0.9088</td>\n",
       "      <td id=\"T_35edb_row1_col7\" class=\"data row1 col7\" >0.3290</td>\n",
       "    </tr>\n",
       "    <tr>\n",
       "      <th id=\"T_35edb_level0_row2\" class=\"row_heading level0 row2\" >lightgbm</th>\n",
       "      <td id=\"T_35edb_row2_col0\" class=\"data row2 col0\" >Light Gradient Boosting Machine</td>\n",
       "      <td id=\"T_35edb_row2_col1\" class=\"data row2 col1\" >0.0761</td>\n",
       "      <td id=\"T_35edb_row2_col2\" class=\"data row2 col2\" >0.0379</td>\n",
       "      <td id=\"T_35edb_row2_col3\" class=\"data row2 col3\" >0.1943</td>\n",
       "      <td id=\"T_35edb_row2_col4\" class=\"data row2 col4\" >0.0146</td>\n",
       "      <td id=\"T_35edb_row2_col5\" class=\"data row2 col5\" >0.1374</td>\n",
       "      <td id=\"T_35edb_row2_col6\" class=\"data row2 col6\" >0.8987</td>\n",
       "      <td id=\"T_35edb_row2_col7\" class=\"data row2 col7\" >0.3840</td>\n",
       "    </tr>\n",
       "    <tr>\n",
       "      <th id=\"T_35edb_level0_row3\" class=\"row_heading level0 row3\" >br</th>\n",
       "      <td id=\"T_35edb_row3_col0\" class=\"data row3 col0\" >Bayesian Ridge</td>\n",
       "      <td id=\"T_35edb_row3_col1\" class=\"data row3 col1\" >0.0789</td>\n",
       "      <td id=\"T_35edb_row3_col2\" class=\"data row3 col2\" >0.0382</td>\n",
       "      <td id=\"T_35edb_row3_col3\" class=\"data row3 col3\" >0.1951</td>\n",
       "      <td id=\"T_35edb_row3_col4\" class=\"data row3 col4\" >0.0068</td>\n",
       "      <td id=\"T_35edb_row3_col5\" class=\"data row3 col5\" >0.1363</td>\n",
       "      <td id=\"T_35edb_row3_col6\" class=\"data row3 col6\" >0.9456</td>\n",
       "      <td id=\"T_35edb_row3_col7\" class=\"data row3 col7\" >0.2700</td>\n",
       "    </tr>\n",
       "    <tr>\n",
       "      <th id=\"T_35edb_level0_row4\" class=\"row_heading level0 row4\" >lr</th>\n",
       "      <td id=\"T_35edb_row4_col0\" class=\"data row4 col0\" >Linear Regression</td>\n",
       "      <td id=\"T_35edb_row4_col1\" class=\"data row4 col1\" >0.0789</td>\n",
       "      <td id=\"T_35edb_row4_col2\" class=\"data row4 col2\" >0.0382</td>\n",
       "      <td id=\"T_35edb_row4_col3\" class=\"data row4 col3\" >0.1951</td>\n",
       "      <td id=\"T_35edb_row4_col4\" class=\"data row4 col4\" >0.0066</td>\n",
       "      <td id=\"T_35edb_row4_col5\" class=\"data row4 col5\" >0.1363</td>\n",
       "      <td id=\"T_35edb_row4_col6\" class=\"data row4 col6\" >0.9453</td>\n",
       "      <td id=\"T_35edb_row4_col7\" class=\"data row4 col7\" >0.8090</td>\n",
       "    </tr>\n",
       "    <tr>\n",
       "      <th id=\"T_35edb_level0_row5\" class=\"row_heading level0 row5\" >ridge</th>\n",
       "      <td id=\"T_35edb_row5_col0\" class=\"data row5 col0\" >Ridge Regression</td>\n",
       "      <td id=\"T_35edb_row5_col1\" class=\"data row5 col1\" >0.0789</td>\n",
       "      <td id=\"T_35edb_row5_col2\" class=\"data row5 col2\" >0.0382</td>\n",
       "      <td id=\"T_35edb_row5_col3\" class=\"data row5 col3\" >0.1951</td>\n",
       "      <td id=\"T_35edb_row5_col4\" class=\"data row5 col4\" >0.0066</td>\n",
       "      <td id=\"T_35edb_row5_col5\" class=\"data row5 col5\" >0.1363</td>\n",
       "      <td id=\"T_35edb_row5_col6\" class=\"data row5 col6\" >0.9453</td>\n",
       "      <td id=\"T_35edb_row5_col7\" class=\"data row5 col7\" >0.2130</td>\n",
       "    </tr>\n",
       "    <tr>\n",
       "      <th id=\"T_35edb_level0_row6\" class=\"row_heading level0 row6\" >lar</th>\n",
       "      <td id=\"T_35edb_row6_col0\" class=\"data row6 col0\" >Least Angle Regression</td>\n",
       "      <td id=\"T_35edb_row6_col1\" class=\"data row6 col1\" >0.0789</td>\n",
       "      <td id=\"T_35edb_row6_col2\" class=\"data row6 col2\" >0.0382</td>\n",
       "      <td id=\"T_35edb_row6_col3\" class=\"data row6 col3\" >0.1951</td>\n",
       "      <td id=\"T_35edb_row6_col4\" class=\"data row6 col4\" >0.0066</td>\n",
       "      <td id=\"T_35edb_row6_col5\" class=\"data row6 col5\" >0.1363</td>\n",
       "      <td id=\"T_35edb_row6_col6\" class=\"data row6 col6\" >0.9453</td>\n",
       "      <td id=\"T_35edb_row6_col7\" class=\"data row6 col7\" >0.2650</td>\n",
       "    </tr>\n",
       "    <tr>\n",
       "      <th id=\"T_35edb_level0_row7\" class=\"row_heading level0 row7\" >omp</th>\n",
       "      <td id=\"T_35edb_row7_col0\" class=\"data row7 col0\" >Orthogonal Matching Pursuit</td>\n",
       "      <td id=\"T_35edb_row7_col1\" class=\"data row7 col1\" >0.0787</td>\n",
       "      <td id=\"T_35edb_row7_col2\" class=\"data row7 col2\" >0.0382</td>\n",
       "      <td id=\"T_35edb_row7_col3\" class=\"data row7 col3\" >0.1952</td>\n",
       "      <td id=\"T_35edb_row7_col4\" class=\"data row7 col4\" >0.0061</td>\n",
       "      <td id=\"T_35edb_row7_col5\" class=\"data row7 col5\" >0.1363</td>\n",
       "      <td id=\"T_35edb_row7_col6\" class=\"data row7 col6\" >0.9463</td>\n",
       "      <td id=\"T_35edb_row7_col7\" class=\"data row7 col7\" >0.2790</td>\n",
       "    </tr>\n",
       "    <tr>\n",
       "      <th id=\"T_35edb_level0_row8\" class=\"row_heading level0 row8\" >en</th>\n",
       "      <td id=\"T_35edb_row8_col0\" class=\"data row8 col0\" >Elastic Net</td>\n",
       "      <td id=\"T_35edb_row8_col1\" class=\"data row8 col1\" >0.0780</td>\n",
       "      <td id=\"T_35edb_row8_col2\" class=\"data row8 col2\" >0.0385</td>\n",
       "      <td id=\"T_35edb_row8_col3\" class=\"data row8 col3\" >0.1959</td>\n",
       "      <td id=\"T_35edb_row8_col4\" class=\"data row8 col4\" >-0.0008</td>\n",
       "      <td id=\"T_35edb_row8_col5\" class=\"data row8 col5\" >0.1364</td>\n",
       "      <td id=\"T_35edb_row8_col6\" class=\"data row8 col6\" >0.9588</td>\n",
       "      <td id=\"T_35edb_row8_col7\" class=\"data row8 col7\" >0.2500</td>\n",
       "    </tr>\n",
       "    <tr>\n",
       "      <th id=\"T_35edb_level0_row9\" class=\"row_heading level0 row9\" >llar</th>\n",
       "      <td id=\"T_35edb_row9_col0\" class=\"data row9 col0\" >Lasso Least Angle Regression</td>\n",
       "      <td id=\"T_35edb_row9_col1\" class=\"data row9 col1\" >0.0780</td>\n",
       "      <td id=\"T_35edb_row9_col2\" class=\"data row9 col2\" >0.0385</td>\n",
       "      <td id=\"T_35edb_row9_col3\" class=\"data row9 col3\" >0.1959</td>\n",
       "      <td id=\"T_35edb_row9_col4\" class=\"data row9 col4\" >-0.0008</td>\n",
       "      <td id=\"T_35edb_row9_col5\" class=\"data row9 col5\" >0.1364</td>\n",
       "      <td id=\"T_35edb_row9_col6\" class=\"data row9 col6\" >0.9588</td>\n",
       "      <td id=\"T_35edb_row9_col7\" class=\"data row9 col7\" >0.2630</td>\n",
       "    </tr>\n",
       "    <tr>\n",
       "      <th id=\"T_35edb_level0_row10\" class=\"row_heading level0 row10\" >lasso</th>\n",
       "      <td id=\"T_35edb_row10_col0\" class=\"data row10 col0\" >Lasso Regression</td>\n",
       "      <td id=\"T_35edb_row10_col1\" class=\"data row10 col1\" >0.0780</td>\n",
       "      <td id=\"T_35edb_row10_col2\" class=\"data row10 col2\" >0.0385</td>\n",
       "      <td id=\"T_35edb_row10_col3\" class=\"data row10 col3\" >0.1959</td>\n",
       "      <td id=\"T_35edb_row10_col4\" class=\"data row10 col4\" >-0.0008</td>\n",
       "      <td id=\"T_35edb_row10_col5\" class=\"data row10 col5\" >0.1364</td>\n",
       "      <td id=\"T_35edb_row10_col6\" class=\"data row10 col6\" >0.9588</td>\n",
       "      <td id=\"T_35edb_row10_col7\" class=\"data row10 col7\" >0.4450</td>\n",
       "    </tr>\n",
       "    <tr>\n",
       "      <th id=\"T_35edb_level0_row11\" class=\"row_heading level0 row11\" >dummy</th>\n",
       "      <td id=\"T_35edb_row11_col0\" class=\"data row11 col0\" >Dummy Regressor</td>\n",
       "      <td id=\"T_35edb_row11_col1\" class=\"data row11 col1\" >0.0780</td>\n",
       "      <td id=\"T_35edb_row11_col2\" class=\"data row11 col2\" >0.0385</td>\n",
       "      <td id=\"T_35edb_row11_col3\" class=\"data row11 col3\" >0.1959</td>\n",
       "      <td id=\"T_35edb_row11_col4\" class=\"data row11 col4\" >-0.0008</td>\n",
       "      <td id=\"T_35edb_row11_col5\" class=\"data row11 col5\" >0.1364</td>\n",
       "      <td id=\"T_35edb_row11_col6\" class=\"data row11 col6\" >0.9588</td>\n",
       "      <td id=\"T_35edb_row11_col7\" class=\"data row11 col7\" >0.2640</td>\n",
       "    </tr>\n",
       "    <tr>\n",
       "      <th id=\"T_35edb_level0_row12\" class=\"row_heading level0 row12\" >huber</th>\n",
       "      <td id=\"T_35edb_row12_col0\" class=\"data row12 col0\" >Huber Regressor</td>\n",
       "      <td id=\"T_35edb_row12_col1\" class=\"data row12 col1\" >0.0401</td>\n",
       "      <td id=\"T_35edb_row12_col2\" class=\"data row12 col2\" >0.0401</td>\n",
       "      <td id=\"T_35edb_row12_col3\" class=\"data row12 col3\" >0.1999</td>\n",
       "      <td id=\"T_35edb_row12_col4\" class=\"data row12 col4\" >-0.0418</td>\n",
       "      <td id=\"T_35edb_row12_col5\" class=\"data row12 col5\" >0.1386</td>\n",
       "      <td id=\"T_35edb_row12_col6\" class=\"data row12 col6\" >1.0000</td>\n",
       "      <td id=\"T_35edb_row12_col7\" class=\"data row12 col7\" >0.2890</td>\n",
       "    </tr>\n",
       "    <tr>\n",
       "      <th id=\"T_35edb_level0_row13\" class=\"row_heading level0 row13\" >rf</th>\n",
       "      <td id=\"T_35edb_row13_col0\" class=\"data row13 col0\" >Random Forest Regressor</td>\n",
       "      <td id=\"T_35edb_row13_col1\" class=\"data row13 col1\" >0.0788</td>\n",
       "      <td id=\"T_35edb_row13_col2\" class=\"data row13 col2\" >0.0414</td>\n",
       "      <td id=\"T_35edb_row13_col3\" class=\"data row13 col3\" >0.2032</td>\n",
       "      <td id=\"T_35edb_row13_col4\" class=\"data row13 col4\" >-0.0787</td>\n",
       "      <td id=\"T_35edb_row13_col5\" class=\"data row13 col5\" >0.1465</td>\n",
       "      <td id=\"T_35edb_row13_col6\" class=\"data row13 col6\" >0.8908</td>\n",
       "      <td id=\"T_35edb_row13_col7\" class=\"data row13 col7\" >0.9740</td>\n",
       "    </tr>\n",
       "    <tr>\n",
       "      <th id=\"T_35edb_level0_row14\" class=\"row_heading level0 row14\" >et</th>\n",
       "      <td id=\"T_35edb_row14_col0\" class=\"data row14 col0\" >Extra Trees Regressor</td>\n",
       "      <td id=\"T_35edb_row14_col1\" class=\"data row14 col1\" >0.0837</td>\n",
       "      <td id=\"T_35edb_row14_col2\" class=\"data row14 col2\" >0.0446</td>\n",
       "      <td id=\"T_35edb_row14_col3\" class=\"data row14 col3\" >0.2111</td>\n",
       "      <td id=\"T_35edb_row14_col4\" class=\"data row14 col4\" >-0.1648</td>\n",
       "      <td id=\"T_35edb_row14_col5\" class=\"data row14 col5\" >0.1529</td>\n",
       "      <td id=\"T_35edb_row14_col6\" class=\"data row14 col6\" >0.8997</td>\n",
       "      <td id=\"T_35edb_row14_col7\" class=\"data row14 col7\" >0.5130</td>\n",
       "    </tr>\n",
       "    <tr>\n",
       "      <th id=\"T_35edb_level0_row15\" class=\"row_heading level0 row15\" >knn</th>\n",
       "      <td id=\"T_35edb_row15_col0\" class=\"data row15 col0\" >K Neighbors Regressor</td>\n",
       "      <td id=\"T_35edb_row15_col1\" class=\"data row15 col1\" >0.0792</td>\n",
       "      <td id=\"T_35edb_row15_col2\" class=\"data row15 col2\" >0.0457</td>\n",
       "      <td id=\"T_35edb_row15_col3\" class=\"data row15 col3\" >0.2135</td>\n",
       "      <td id=\"T_35edb_row15_col4\" class=\"data row15 col4\" >-0.1906</td>\n",
       "      <td id=\"T_35edb_row15_col5\" class=\"data row15 col5\" >0.1566</td>\n",
       "      <td id=\"T_35edb_row15_col6\" class=\"data row15 col6\" >0.9165</td>\n",
       "      <td id=\"T_35edb_row15_col7\" class=\"data row15 col7\" >0.3440</td>\n",
       "    </tr>\n",
       "    <tr>\n",
       "      <th id=\"T_35edb_level0_row16\" class=\"row_heading level0 row16\" >dt</th>\n",
       "      <td id=\"T_35edb_row16_col0\" class=\"data row16 col0\" >Decision Tree Regressor</td>\n",
       "      <td id=\"T_35edb_row16_col1\" class=\"data row16 col1\" >0.0786</td>\n",
       "      <td id=\"T_35edb_row16_col2\" class=\"data row16 col2\" >0.0786</td>\n",
       "      <td id=\"T_35edb_row16_col3\" class=\"data row16 col3\" >0.2802</td>\n",
       "      <td id=\"T_35edb_row16_col4\" class=\"data row16 col4\" >-1.0624</td>\n",
       "      <td id=\"T_35edb_row16_col5\" class=\"data row16 col5\" >0.1942</td>\n",
       "      <td id=\"T_35edb_row16_col6\" class=\"data row16 col6\" >0.9076</td>\n",
       "      <td id=\"T_35edb_row16_col7\" class=\"data row16 col7\" >0.3380</td>\n",
       "    </tr>\n",
       "    <tr>\n",
       "      <th id=\"T_35edb_level0_row17\" class=\"row_heading level0 row17\" >par</th>\n",
       "      <td id=\"T_35edb_row17_col0\" class=\"data row17 col0\" >Passive Aggressive Regressor</td>\n",
       "      <td id=\"T_35edb_row17_col1\" class=\"data row17 col1\" >0.3219</td>\n",
       "      <td id=\"T_35edb_row17_col2\" class=\"data row17 col2\" >0.3948</td>\n",
       "      <td id=\"T_35edb_row17_col3\" class=\"data row17 col3\" >0.4949</td>\n",
       "      <td id=\"T_35edb_row17_col4\" class=\"data row17 col4\" >-9.0817</td>\n",
       "      <td id=\"T_35edb_row17_col5\" class=\"data row17 col5\" >0.2948</td>\n",
       "      <td id=\"T_35edb_row17_col6\" class=\"data row17 col6\" >1.0783</td>\n",
       "      <td id=\"T_35edb_row17_col7\" class=\"data row17 col7\" >0.2990</td>\n",
       "    </tr>\n",
       "  </tbody>\n",
       "</table>\n"
      ],
      "text/plain": [
       "<pandas.io.formats.style.Styler at 0x1c0c049a410>"
      ]
     },
     "metadata": {},
     "output_type": "display_data"
    },
    {
     "data": {
      "text/html": [],
      "text/plain": [
       "<IPython.core.display.HTML object>"
      ]
     },
     "metadata": {},
     "output_type": "display_data"
    }
   ],
   "source": [
    "# compare baseline models\n",
    "best = compare_models()"
   ]
  }
 ],
 "metadata": {
  "kernelspec": {
   "display_name": "NTT",
   "language": "python",
   "name": "python3"
  },
  "language_info": {
   "codemirror_mode": {
    "name": "ipython",
    "version": 3
   },
   "file_extension": ".py",
   "mimetype": "text/x-python",
   "name": "python",
   "nbconvert_exporter": "python",
   "pygments_lexer": "ipython3",
   "version": "3.10.16"
  }
 },
 "nbformat": 4,
 "nbformat_minor": 2
}
