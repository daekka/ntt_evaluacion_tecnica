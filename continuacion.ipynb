{
 "cells": [
  {
   "cell_type": "code",
   "execution_count": 79,
   "metadata": {},
   "outputs": [
    {
     "name": "stdout",
     "output_type": "stream",
     "text": [
      "       Unnamed: 0      ID  var_1  var_2  var_3   var_4   var_5  var_6  var_7  \\\n",
      "0               2       3      2     34    0.0    0.00    0.00    0.0    0.0   \n",
      "1               7      14      2     27    0.0    0.00    0.00    0.0    0.0   \n",
      "2               8      18      2     26    0.0    0.00    0.00    0.0    0.0   \n",
      "3              10      23      2     25    0.0    0.00    0.00    0.0    0.0   \n",
      "4              12      26      2     26    0.0    0.00    0.00    0.0    0.0   \n",
      "...           ...     ...    ...    ...    ...     ...     ...    ...    ...   \n",
      "38062       43187   86463      2     36    0.0  176.79  176.79    0.0    0.0   \n",
      "38063       56100  111953      2     27    0.0    0.00    0.00    0.0    0.0   \n",
      "38064       43695   87523      2     26    0.0    0.00    0.00    0.0    0.0   \n",
      "38065        8115   16373      2     32    0.0    0.00    0.00    0.0    0.0   \n",
      "38066       51281  102362      2     23    0.0    0.00    0.00    0.0    0.0   \n",
      "\n",
      "       var_8  ...  var_362  var_363  var_364  var_365  var_366  var_367  \\\n",
      "0        0.0  ...      0.0      0.0      0.0      0.0      0.0      0.0   \n",
      "1        0.0  ...      0.0      0.0      0.0      0.0      0.0      0.0   \n",
      "2        0.0  ...      0.0      0.0      0.0      0.0      0.0      0.0   \n",
      "3        0.0  ...      0.0      0.0      0.0      0.0      0.0      0.0   \n",
      "4        0.0  ...      0.0      0.0      0.0      0.0      0.0      0.0   \n",
      "...      ...  ...      ...      ...      ...      ...      ...      ...   \n",
      "38062    0.0  ...      0.0      0.0      0.0      0.0      0.0      0.0   \n",
      "38063    0.0  ...      0.0      0.0      0.0      0.0      0.0      0.0   \n",
      "38064    0.0  ...      0.0      0.0      0.0      0.0      0.0      0.0   \n",
      "38065    0.0  ...      0.0      0.0      0.0      0.0      0.0      0.0   \n",
      "38066    0.0  ...      0.0      0.0      0.0      0.0      0.0      0.0   \n",
      "\n",
      "       var_368        var_369   var_370  Target  \n",
      "0          0.0   49278.030000  0.012858       0  \n",
      "1          0.0   94956.660000  0.391089       0  \n",
      "2          0.0  251638.950000  0.300590       0  \n",
      "3          0.0  356463.060000  0.022430       0  \n",
      "4          0.0   75368.520000  0.004120       0  \n",
      "...        ...            ...       ...     ...  \n",
      "38062      0.0   58191.720000  0.053754       0  \n",
      "38063      0.0  117310.979016  0.146080       0  \n",
      "38064      0.0  131701.590000  0.010387       0  \n",
      "38065      0.0   72124.830000  0.275760       0  \n",
      "38066      0.0   58750.530000  0.210024       0  \n",
      "\n",
      "[38067 rows x 373 columns]\n"
     ]
    }
   ],
   "source": [
    "import pandas as pd\n",
    "import numpy as np\n",
    "import unittest\n",
    "import pycaret\n",
    "src_train = pd.read_csv('data_train.csv', dtype={'ID': str})\n",
    "\n",
    "\n",
    "print (src_train)"
   ]
  },
  {
   "cell_type": "markdown",
   "metadata": {},
   "source": [
    "### 18. Sobre la variables “var_370”, genera dos variables nuevas:\n",
    "    a. Aplicando el logaritmo con base mediana.\n",
    "    b. Normalizando dicha variable. "
   ]
  },
  {
   "cell_type": "code",
   "execution_count": null,
   "metadata": {},
   "outputs": [
    {
     "name": "stdout",
     "output_type": "stream",
     "text": [
      "       Unnamed: 0      ID  var_1  var_2  var_3   var_4   var_5  var_6  var_7  \\\n",
      "0               2       3      2     34    0.0    0.00    0.00    0.0    0.0   \n",
      "1               7      14      2     27    0.0    0.00    0.00    0.0    0.0   \n",
      "2               8      18      2     26    0.0    0.00    0.00    0.0    0.0   \n",
      "3              10      23      2     25    0.0    0.00    0.00    0.0    0.0   \n",
      "4              12      26      2     26    0.0    0.00    0.00    0.0    0.0   \n",
      "...           ...     ...    ...    ...    ...     ...     ...    ...    ...   \n",
      "38062       43187   86463      2     36    0.0  176.79  176.79    0.0    0.0   \n",
      "38063       56100  111953      2     27    0.0    0.00    0.00    0.0    0.0   \n",
      "38064       43695   87523      2     26    0.0    0.00    0.00    0.0    0.0   \n",
      "38065        8115   16373      2     32    0.0    0.00    0.00    0.0    0.0   \n",
      "38066       51281  102362      2     23    0.0    0.00    0.00    0.0    0.0   \n",
      "\n",
      "       var_8  ...  var_364  var_365  var_366  var_367  var_368        var_369  \\\n",
      "0        0.0  ...      0.0      0.0      0.0      0.0      0.0   49278.030000   \n",
      "1        0.0  ...      0.0      0.0      0.0      0.0      0.0   94956.660000   \n",
      "2        0.0  ...      0.0      0.0      0.0      0.0      0.0  251638.950000   \n",
      "3        0.0  ...      0.0      0.0      0.0      0.0      0.0  356463.060000   \n",
      "4        0.0  ...      0.0      0.0      0.0      0.0      0.0   75368.520000   \n",
      "...      ...  ...      ...      ...      ...      ...      ...            ...   \n",
      "38062    0.0  ...      0.0      0.0      0.0      0.0      0.0   58191.720000   \n",
      "38063    0.0  ...      0.0      0.0      0.0      0.0      0.0  117310.979016   \n",
      "38064    0.0  ...      0.0      0.0      0.0      0.0      0.0  131701.590000   \n",
      "38065    0.0  ...      0.0      0.0      0.0      0.0      0.0   72124.830000   \n",
      "38066    0.0  ...      0.0      0.0      0.0      0.0      0.0   58750.530000   \n",
      "\n",
      "        var_370  Target  var_370_log_med  var_370_norm  \n",
      "0      0.012858       0         1.796752      0.016827  \n",
      "1      0.391089       0         0.387437      0.512151  \n",
      "2      0.300590       0         0.496050      0.393636  \n",
      "3      0.022430       0         1.567114      0.029362  \n",
      "4      0.004120       0         2.266429      0.005384  \n",
      "...         ...     ...              ...           ...  \n",
      "38062  0.053754       0         1.206417      0.070384  \n",
      "38063  0.146080       0         0.793841      0.191292  \n",
      "38064  0.010387       0         1.884796      0.013592  \n",
      "38065  0.275760       0         0.531630      0.361119  \n",
      "38066  0.210024       0         0.644009      0.275031  \n",
      "\n",
      "[38067 rows x 375 columns]\n"
     ]
    }
   ],
   "source": [
    "# 1. Función para aplicar logaritmo en base mediana\n",
    "def logaritmo_base_mediana(df, columna):\n",
    "    \n",
    "    mediana = df[columna].median()\n",
    "    if mediana <= 0:\n",
    "        raise ValueError(\"La mediana debe ser mayor que 0 para aplicar logaritmo.\")\n",
    "\n",
    "    df[columna + '_log_med'] = np.log(df[columna]) / np.log(mediana)\n",
    "    return df\n",
    "\n",
    "\n",
    "# 2. Función para normalizar una variable\n",
    "def normalizar_variable(df, columna, metodo=\"minmax\"):\n",
    "\n",
    "    if metodo == \"zscore\":\n",
    "        media = df[columna].mean()\n",
    "        std = df[columna].std()\n",
    "        df[columna + '_norm'] = (df[columna] - media) / std\n",
    "    \n",
    "    elif metodo == \"minmax\":\n",
    "        min_val = df[columna].min()\n",
    "        max_val = df[columna].max()\n",
    "        df[columna + '_norm'] = (df[columna] - min_val) / (max_val - min_val)\n",
    "    \n",
    "    else:\n",
    "        raise ValueError(\"Método no válido. Usa 'zscore' o 'minmax'.\")\n",
    "    \n",
    "    return df\n",
    "\n",
    "src_train = logaritmo_base_mediana(src_train, \"var_370\")\n",
    "src_train = normalizar_variable (src_train, \"var_370\")\n",
    "print (src_train)"
   ]
  },
  {
   "cell_type": "markdown",
   "metadata": {},
   "source": [
    "### 19. Construye una función que reciba una serie de datos (como puede ser una variable en un dataset) y devuelva esa serie normalizada entre 0 y 1. Además la función tiene que comprobar que el formato de la variable de entrada es una serie y elevar un error en caso contrario. Ejecuta esta función sobre la variable que consideres. "
   ]
  },
  {
   "cell_type": "code",
   "execution_count": null,
   "metadata": {},
   "outputs": [
    {
     "name": "stdout",
     "output_type": "stream",
     "text": [
      "0        0.016827\n",
      "1        0.512151\n",
      "2        0.393636\n",
      "3        0.029362\n",
      "4        0.005384\n",
      "           ...   \n",
      "38062    0.070384\n",
      "38063    0.191292\n",
      "38064    0.013592\n",
      "38065    0.361119\n",
      "38066    0.275031\n",
      "Name: var_370, Length: 38067, dtype: float64\n"
     ]
    }
   ],
   "source": [
    "\n",
    "def normalizar_serie(serie):\n",
    "    if not isinstance(serie, pd.Series):\n",
    "        raise TypeError(\"La entrada debe ser una serie de Pandas\")\n",
    "    \n",
    "    min_val = serie.min()\n",
    "    max_val = serie.max()\n",
    "    \n",
    "    if min_val == max_val:\n",
    "        return serie.apply(lambda x: 0)  # Evita la división por cero en caso de valores constantes\n",
    "    \n",
    "    return (serie - min_val) / (max_val - min_val)\n",
    "\n",
    "\n",
    "data = pd.Series([10, 20, 30, 40, 50])\n",
    "serie_normalizada = normalizar_serie(src_train['var_370'])\n",
    "print (serie_normalizada)"
   ]
  },
  {
   "cell_type": "markdown",
   "metadata": {},
   "source": [
    "### 20. Genera los test unitarios que consideres para comprobar el funcionamiento correcto de la función anterior. "
   ]
  },
  {
   "cell_type": "code",
   "execution_count": null,
   "metadata": {},
   "outputs": [
    {
     "name": "stdout",
     "output_type": "stream",
     "text": [
      "Correcto\n",
      "Correcto\n"
     ]
    },
    {
     "ename": "TypeError",
     "evalue": "La entrada debe ser una serie de Pandas",
     "output_type": "error",
     "traceback": [
      "\u001b[1;31m---------------------------------------------------------------------------\u001b[0m",
      "\u001b[1;31mTypeError\u001b[0m                                 Traceback (most recent call last)",
      "Cell \u001b[1;32mIn[24], line 22\u001b[0m\n\u001b[0;32m     20\u001b[0m \u001b[38;5;66;03m# No serie\u001b[39;00m\n\u001b[0;32m     21\u001b[0m serie \u001b[38;5;241m=\u001b[39m [\u001b[38;5;241m10\u001b[39m, \u001b[38;5;241m20\u001b[39m, \u001b[38;5;241m30\u001b[39m, \u001b[38;5;241m40\u001b[39m, \u001b[38;5;241m50\u001b[39m]\n\u001b[1;32m---> 22\u001b[0m resultado \u001b[38;5;241m=\u001b[39m normalizar_serie(serie)\n",
      "Cell \u001b[1;32mIn[13], line 3\u001b[0m, in \u001b[0;36mnormalizar_serie\u001b[1;34m(serie)\u001b[0m\n\u001b[0;32m      1\u001b[0m \u001b[38;5;28;01mdef\u001b[39;00m \u001b[38;5;21mnormalizar_serie\u001b[39m(serie):\n\u001b[0;32m      2\u001b[0m     \u001b[38;5;28;01mif\u001b[39;00m \u001b[38;5;129;01mnot\u001b[39;00m \u001b[38;5;28misinstance\u001b[39m(serie, pd\u001b[38;5;241m.\u001b[39mSeries):\n\u001b[1;32m----> 3\u001b[0m         \u001b[38;5;28;01mraise\u001b[39;00m \u001b[38;5;167;01mTypeError\u001b[39;00m(\u001b[38;5;124m\"\u001b[39m\u001b[38;5;124mLa entrada debe ser una serie de Pandas\u001b[39m\u001b[38;5;124m\"\u001b[39m)\n\u001b[0;32m      5\u001b[0m     min_val \u001b[38;5;241m=\u001b[39m serie\u001b[38;5;241m.\u001b[39mmin()\n\u001b[0;32m      6\u001b[0m     max_val \u001b[38;5;241m=\u001b[39m serie\u001b[38;5;241m.\u001b[39mmax()\n",
      "\u001b[1;31mTypeError\u001b[0m: La entrada debe ser una serie de Pandas"
     ]
    }
   ],
   "source": [
    "serie = pd.Series([10, 20, 30, 40, 50])\n",
    "resultado = normalizar_serie(serie)\n",
    "esperado = pd.Series([0.0, 0.25, 0.5, 0.75, 1.0])\n",
    "if resultado.equals(esperado):\n",
    "    print(\"Correcto\")\n",
    "else:\n",
    "    print(\"Incorrecto\")\n",
    "\n",
    "serie = pd.Series([5, 5, 5, 5])\n",
    "resultado = normalizar_serie(serie)\n",
    "esperado = pd.Series([0, 0, 0, 0])\n",
    "if resultado.equals(esperado):\n",
    "    print(\"Correcto\")\n",
    "else:\n",
    "    print(\"Incorrecto\")\n",
    "\n",
    "\n",
    "# No serie\n",
    "serie = [10, 20, 30, 40, 50]\n",
    "resultado = normalizar_serie(serie)"
   ]
  },
  {
   "cell_type": "markdown",
   "metadata": {},
   "source": [
    "### 21. Genera un dataframe con las siguientes variables: 'ID', 'var_2', 'var_276', 'var_325', 'var_278', 'var_275', 'var_280', 'var_327', 'var_63', 'var_369', 'var_1', 'var_279', 'var_340', 'var_339', 'var_165', 'var_177', 'var_172', 'var_168', 'var_114', 'var_47', 'var_105', 'var_194', 'Target', además incluye las variables sintéticas generadas en la pregunta anterior.Guárdalo en un archivo csv que se llame vun_train.csv"
   ]
  },
  {
   "cell_type": "code",
   "execution_count": 88,
   "metadata": {},
   "outputs": [
    {
     "name": "stdout",
     "output_type": "stream",
     "text": [
      "           ID  var_2  var_276  var_325  var_278  var_275  var_280  var_327  \\\n",
      "0           3     34        0        0        0        0        0        0   \n",
      "1          14     27        0        0        0        0        0        0   \n",
      "2          18     26        0        0        0        0        0        0   \n",
      "3          23     25        0        0        0        0        0        0   \n",
      "4          26     26        0        0        0        0        0        0   \n",
      "...       ...    ...      ...      ...      ...      ...      ...      ...   \n",
      "38062   86463     36        0        9        3        3        9       27   \n",
      "38063  111953     27        0        0        0        0        0        0   \n",
      "38064   87523     26        0        0        0        0        0        0   \n",
      "38065   16373     32        0        0        0        0        0        0   \n",
      "38066  102362     23        0        0        0        0        0        0   \n",
      "\n",
      "       var_63        var_369  ...  var_339  var_165  var_177  var_172  \\\n",
      "0           1   49278.030000  ...      0.0     0.00      0.0    300.0   \n",
      "1           1   94956.660000  ...      0.0     3.00      0.0      0.0   \n",
      "2           1  251638.950000  ...      0.0     3.00      0.0      0.0   \n",
      "3           1  356463.060000  ...      0.0     3.00      0.0      0.0   \n",
      "4           1   75368.520000  ...      0.0     0.00      0.0      0.0   \n",
      "...       ...            ...  ...      ...      ...      ...      ...   \n",
      "38062       1   58191.720000  ...      0.0  4555.98      0.0      0.0   \n",
      "38063       1  117310.979016  ...      0.0    90.00      0.0      0.0   \n",
      "38064       1  131701.590000  ...      0.0     0.00      0.0      0.0   \n",
      "38065       1   72124.830000  ...      0.0     3.00      0.0      0.0   \n",
      "38066       1   58750.530000  ...      0.0    90.00      0.0      0.0   \n",
      "\n",
      "       var_168  var_114  var_47  var_105  var_194  Target  \n",
      "0          0.0        0       0        3        3       0  \n",
      "1          0.0        0       0        0        3       0  \n",
      "2          0.0        0       0        0        2       0  \n",
      "3          0.0        0       0        0        2       0  \n",
      "4          0.0        0       0        0       99       0  \n",
      "...        ...      ...     ...      ...      ...     ...  \n",
      "38062      0.0        0       0        0        2       0  \n",
      "38063      0.0        0       0        0        3       0  \n",
      "38064      0.0        0       0        0       99       0  \n",
      "38065      0.0        0       0        0        3       0  \n",
      "38066      0.0        0       0        0        3       0  \n",
      "\n",
      "[38067 rows x 23 columns]\n"
     ]
    }
   ],
   "source": [
    "    #var_2_normalizada = normalizar_serie(src_train['var_2'])\n",
    "    columnas_seleccionadas = [\n",
    "        'ID', 'var_2', 'var_276', 'var_325', 'var_278', 'var_275', 'var_280', 'var_327',\n",
    "        'var_63', 'var_369', 'var_1', 'var_279', 'var_340', 'var_339', 'var_165', 'var_177',\n",
    "        'var_172', 'var_168', 'var_114', 'var_47', 'var_105', 'var_194', 'Target'\n",
    "    ]\n",
    "\n",
    "    vun_train = src_train[columnas_seleccionadas].copy()\n",
    "    print (vun_train)\n",
    "    #vun_train['var_2_normalizada'] = var_2_normalizada.values\n",
    "    vun_train.to_csv('vun_train.csv', index=False)\n"
   ]
  },
  {
   "cell_type": "markdown",
   "metadata": {},
   "source": [
    "## 4. Bloque 4. Modelización"
   ]
  },
  {
   "cell_type": "markdown",
   "metadata": {},
   "source": [
    "### 22. Vuelve a cargar el archivo vun_train.csv sobre la variable vun_train."
   ]
  },
  {
   "cell_type": "code",
   "execution_count": 109,
   "metadata": {},
   "outputs": [
    {
     "name": "stdout",
     "output_type": "stream",
     "text": [
      "<class 'pandas.core.frame.DataFrame'>\n",
      "RangeIndex: 38067 entries, 0 to 38066\n",
      "Data columns (total 22 columns):\n",
      " #   Column   Non-Null Count  Dtype  \n",
      "---  ------   --------------  -----  \n",
      " 0   var_2    38067 non-null  int64  \n",
      " 1   var_276  38067 non-null  int64  \n",
      " 2   var_325  38067 non-null  int64  \n",
      " 3   var_278  38067 non-null  int64  \n",
      " 4   var_275  38067 non-null  int64  \n",
      " 5   var_280  38067 non-null  int64  \n",
      " 6   var_327  38067 non-null  int64  \n",
      " 7   var_63   38067 non-null  int64  \n",
      " 8   var_369  38067 non-null  float64\n",
      " 9   var_1    38067 non-null  int64  \n",
      " 10  var_279  38067 non-null  int64  \n",
      " 11  var_340  38067 non-null  float64\n",
      " 12  var_339  38067 non-null  float64\n",
      " 13  var_165  38067 non-null  float64\n",
      " 14  var_177  38067 non-null  float64\n",
      " 15  var_172  38067 non-null  float64\n",
      " 16  var_168  38067 non-null  float64\n",
      " 17  var_114  38067 non-null  int64  \n",
      " 18  var_47   38067 non-null  int64  \n",
      " 19  var_105  38067 non-null  int64  \n",
      " 20  var_194  38067 non-null  int64  \n",
      " 21  Target   38067 non-null  bool   \n",
      "dtypes: bool(1), float64(7), int64(14)\n",
      "memory usage: 6.1 MB\n",
      "None\n"
     ]
    }
   ],
   "source": [
    "vun_train = pd.read_csv('vun_train.csv')\n",
    "vun_train = vun_train.drop(columns=[\"ID\"])\n",
    "vun_train[\"Target\"] = vun_train[\"Target\"].astype(bool)\n",
    "\n",
    "print (vun_train.info())"
   ]
  },
  {
   "cell_type": "markdown",
   "metadata": {},
   "source": [
    "### 23. Separa el dataframe vun_train en dos: uno de entrenamiento y otro de validación, con el 70% y el 30% de los registros respectivamente. "
   ]
  },
  {
   "cell_type": "code",
   "execution_count": 101,
   "metadata": {},
   "outputs": [],
   "source": [
    "semilla = 183530\n",
    "from sklearn.model_selection import train_test_split\n",
    "import numpy as np\n",
    "# Dividir en entrenamiento (70%) y prueba (30%)\n",
    "train_df, test_df = train_test_split(vun_train, test_size=0.3, random_state=semilla)"
   ]
  },
  {
   "cell_type": "markdown",
   "metadata": {},
   "source": [
    "### 24. Realiza un modelo de regresión logística con las variables que consideres oportunas. Interpreta los resultados en función de los p-valores."
   ]
  },
  {
   "cell_type": "code",
   "execution_count": 123,
   "metadata": {},
   "outputs": [
    {
     "name": "stdout",
     "output_type": "stream",
     "text": [
      "[LightGBM] [Info] Number of positive: 727, number of negative: 16992\n",
      "[LightGBM] [Info] Auto-choosing row-wise multi-threading, the overhead of testing was 0.001111 seconds.\n",
      "You can set `force_row_wise=true` to remove the overhead.\n",
      "And if memory is not enough, you can set `force_col_wise=true`.\n",
      "[LightGBM] [Info] Total Bins 1226\n",
      "[LightGBM] [Info] Number of data points in the train set: 17719, number of used features: 21\n",
      "[LightGBM] [Info] [binary:BoostFromScore]: pavg=0.041029 -> initscore=-3.151571\n",
      "[LightGBM] [Info] Start training from score -3.151571\n"
     ]
    },
    {
     "data": {
      "text/html": [
       "<style type=\"text/css\">\n",
       "#T_9b8e9_row8_col1, #T_9b8e9_row12_col1, #T_9b8e9_row14_col1, #T_9b8e9_row16_col1 {\n",
       "  background-color: lightgreen;\n",
       "}\n",
       "</style>\n",
       "<table id=\"T_9b8e9\">\n",
       "  <thead>\n",
       "    <tr>\n",
       "      <th class=\"blank level0\" >&nbsp;</th>\n",
       "      <th id=\"T_9b8e9_level0_col0\" class=\"col_heading level0 col0\" >Description</th>\n",
       "      <th id=\"T_9b8e9_level0_col1\" class=\"col_heading level0 col1\" >Value</th>\n",
       "    </tr>\n",
       "  </thead>\n",
       "  <tbody>\n",
       "    <tr>\n",
       "      <th id=\"T_9b8e9_level0_row0\" class=\"row_heading level0 row0\" >0</th>\n",
       "      <td id=\"T_9b8e9_row0_col0\" class=\"data row0 col0\" >Session id</td>\n",
       "      <td id=\"T_9b8e9_row0_col1\" class=\"data row0 col1\" >183530</td>\n",
       "    </tr>\n",
       "    <tr>\n",
       "      <th id=\"T_9b8e9_level0_row1\" class=\"row_heading level0 row1\" >1</th>\n",
       "      <td id=\"T_9b8e9_row1_col0\" class=\"data row1 col0\" >Target</td>\n",
       "      <td id=\"T_9b8e9_row1_col1\" class=\"data row1 col1\" >Target</td>\n",
       "    </tr>\n",
       "    <tr>\n",
       "      <th id=\"T_9b8e9_level0_row2\" class=\"row_heading level0 row2\" >2</th>\n",
       "      <td id=\"T_9b8e9_row2_col0\" class=\"data row2 col0\" >Target type</td>\n",
       "      <td id=\"T_9b8e9_row2_col1\" class=\"data row2 col1\" >Binary</td>\n",
       "    </tr>\n",
       "    <tr>\n",
       "      <th id=\"T_9b8e9_level0_row3\" class=\"row_heading level0 row3\" >3</th>\n",
       "      <td id=\"T_9b8e9_row3_col0\" class=\"data row3 col0\" >Original data shape</td>\n",
       "      <td id=\"T_9b8e9_row3_col1\" class=\"data row3 col1\" >(26646, 22)</td>\n",
       "    </tr>\n",
       "    <tr>\n",
       "      <th id=\"T_9b8e9_level0_row4\" class=\"row_heading level0 row4\" >4</th>\n",
       "      <td id=\"T_9b8e9_row4_col0\" class=\"data row4 col0\" >Transformed data shape</td>\n",
       "      <td id=\"T_9b8e9_row4_col1\" class=\"data row4 col1\" >(25713, 5)</td>\n",
       "    </tr>\n",
       "    <tr>\n",
       "      <th id=\"T_9b8e9_level0_row5\" class=\"row_heading level0 row5\" >5</th>\n",
       "      <td id=\"T_9b8e9_row5_col0\" class=\"data row5 col0\" >Transformed train set shape</td>\n",
       "      <td id=\"T_9b8e9_row5_col1\" class=\"data row5 col1\" >(17719, 5)</td>\n",
       "    </tr>\n",
       "    <tr>\n",
       "      <th id=\"T_9b8e9_level0_row6\" class=\"row_heading level0 row6\" >6</th>\n",
       "      <td id=\"T_9b8e9_row6_col0\" class=\"data row6 col0\" >Transformed test set shape</td>\n",
       "      <td id=\"T_9b8e9_row6_col1\" class=\"data row6 col1\" >(7994, 5)</td>\n",
       "    </tr>\n",
       "    <tr>\n",
       "      <th id=\"T_9b8e9_level0_row7\" class=\"row_heading level0 row7\" >7</th>\n",
       "      <td id=\"T_9b8e9_row7_col0\" class=\"data row7 col0\" >Numeric features</td>\n",
       "      <td id=\"T_9b8e9_row7_col1\" class=\"data row7 col1\" >21</td>\n",
       "    </tr>\n",
       "    <tr>\n",
       "      <th id=\"T_9b8e9_level0_row8\" class=\"row_heading level0 row8\" >8</th>\n",
       "      <td id=\"T_9b8e9_row8_col0\" class=\"data row8 col0\" >Preprocess</td>\n",
       "      <td id=\"T_9b8e9_row8_col1\" class=\"data row8 col1\" >True</td>\n",
       "    </tr>\n",
       "    <tr>\n",
       "      <th id=\"T_9b8e9_level0_row9\" class=\"row_heading level0 row9\" >9</th>\n",
       "      <td id=\"T_9b8e9_row9_col0\" class=\"data row9 col0\" >Imputation type</td>\n",
       "      <td id=\"T_9b8e9_row9_col1\" class=\"data row9 col1\" >simple</td>\n",
       "    </tr>\n",
       "    <tr>\n",
       "      <th id=\"T_9b8e9_level0_row10\" class=\"row_heading level0 row10\" >10</th>\n",
       "      <td id=\"T_9b8e9_row10_col0\" class=\"data row10 col0\" >Numeric imputation</td>\n",
       "      <td id=\"T_9b8e9_row10_col1\" class=\"data row10 col1\" >mean</td>\n",
       "    </tr>\n",
       "    <tr>\n",
       "      <th id=\"T_9b8e9_level0_row11\" class=\"row_heading level0 row11\" >11</th>\n",
       "      <td id=\"T_9b8e9_row11_col0\" class=\"data row11 col0\" >Categorical imputation</td>\n",
       "      <td id=\"T_9b8e9_row11_col1\" class=\"data row11 col1\" >mode</td>\n",
       "    </tr>\n",
       "    <tr>\n",
       "      <th id=\"T_9b8e9_level0_row12\" class=\"row_heading level0 row12\" >12</th>\n",
       "      <td id=\"T_9b8e9_row12_col0\" class=\"data row12 col0\" >Remove outliers</td>\n",
       "      <td id=\"T_9b8e9_row12_col1\" class=\"data row12 col1\" >True</td>\n",
       "    </tr>\n",
       "    <tr>\n",
       "      <th id=\"T_9b8e9_level0_row13\" class=\"row_heading level0 row13\" >13</th>\n",
       "      <td id=\"T_9b8e9_row13_col0\" class=\"data row13 col0\" >Outliers threshold</td>\n",
       "      <td id=\"T_9b8e9_row13_col1\" class=\"data row13 col1\" >0.050000</td>\n",
       "    </tr>\n",
       "    <tr>\n",
       "      <th id=\"T_9b8e9_level0_row14\" class=\"row_heading level0 row14\" >14</th>\n",
       "      <td id=\"T_9b8e9_row14_col0\" class=\"data row14 col0\" >Normalize</td>\n",
       "      <td id=\"T_9b8e9_row14_col1\" class=\"data row14 col1\" >True</td>\n",
       "    </tr>\n",
       "    <tr>\n",
       "      <th id=\"T_9b8e9_level0_row15\" class=\"row_heading level0 row15\" >15</th>\n",
       "      <td id=\"T_9b8e9_row15_col0\" class=\"data row15 col0\" >Normalize method</td>\n",
       "      <td id=\"T_9b8e9_row15_col1\" class=\"data row15 col1\" >zscore</td>\n",
       "    </tr>\n",
       "    <tr>\n",
       "      <th id=\"T_9b8e9_level0_row16\" class=\"row_heading level0 row16\" >16</th>\n",
       "      <td id=\"T_9b8e9_row16_col0\" class=\"data row16 col0\" >Feature selection</td>\n",
       "      <td id=\"T_9b8e9_row16_col1\" class=\"data row16 col1\" >True</td>\n",
       "    </tr>\n",
       "    <tr>\n",
       "      <th id=\"T_9b8e9_level0_row17\" class=\"row_heading level0 row17\" >17</th>\n",
       "      <td id=\"T_9b8e9_row17_col0\" class=\"data row17 col0\" >Feature selection method</td>\n",
       "      <td id=\"T_9b8e9_row17_col1\" class=\"data row17 col1\" >classic</td>\n",
       "    </tr>\n",
       "    <tr>\n",
       "      <th id=\"T_9b8e9_level0_row18\" class=\"row_heading level0 row18\" >18</th>\n",
       "      <td id=\"T_9b8e9_row18_col0\" class=\"data row18 col0\" >Feature selection estimator</td>\n",
       "      <td id=\"T_9b8e9_row18_col1\" class=\"data row18 col1\" >lightgbm</td>\n",
       "    </tr>\n",
       "    <tr>\n",
       "      <th id=\"T_9b8e9_level0_row19\" class=\"row_heading level0 row19\" >19</th>\n",
       "      <td id=\"T_9b8e9_row19_col0\" class=\"data row19 col0\" >Number of features selected</td>\n",
       "      <td id=\"T_9b8e9_row19_col1\" class=\"data row19 col1\" >0.200000</td>\n",
       "    </tr>\n",
       "    <tr>\n",
       "      <th id=\"T_9b8e9_level0_row20\" class=\"row_heading level0 row20\" >20</th>\n",
       "      <td id=\"T_9b8e9_row20_col0\" class=\"data row20 col0\" >Fold Generator</td>\n",
       "      <td id=\"T_9b8e9_row20_col1\" class=\"data row20 col1\" >StratifiedKFold</td>\n",
       "    </tr>\n",
       "    <tr>\n",
       "      <th id=\"T_9b8e9_level0_row21\" class=\"row_heading level0 row21\" >21</th>\n",
       "      <td id=\"T_9b8e9_row21_col0\" class=\"data row21 col0\" >Fold Number</td>\n",
       "      <td id=\"T_9b8e9_row21_col1\" class=\"data row21 col1\" >10</td>\n",
       "    </tr>\n",
       "    <tr>\n",
       "      <th id=\"T_9b8e9_level0_row22\" class=\"row_heading level0 row22\" >22</th>\n",
       "      <td id=\"T_9b8e9_row22_col0\" class=\"data row22 col0\" >CPU Jobs</td>\n",
       "      <td id=\"T_9b8e9_row22_col1\" class=\"data row22 col1\" >-1</td>\n",
       "    </tr>\n",
       "    <tr>\n",
       "      <th id=\"T_9b8e9_level0_row23\" class=\"row_heading level0 row23\" >23</th>\n",
       "      <td id=\"T_9b8e9_row23_col0\" class=\"data row23 col0\" >Use GPU</td>\n",
       "      <td id=\"T_9b8e9_row23_col1\" class=\"data row23 col1\" >False</td>\n",
       "    </tr>\n",
       "    <tr>\n",
       "      <th id=\"T_9b8e9_level0_row24\" class=\"row_heading level0 row24\" >24</th>\n",
       "      <td id=\"T_9b8e9_row24_col0\" class=\"data row24 col0\" >Log Experiment</td>\n",
       "      <td id=\"T_9b8e9_row24_col1\" class=\"data row24 col1\" >False</td>\n",
       "    </tr>\n",
       "    <tr>\n",
       "      <th id=\"T_9b8e9_level0_row25\" class=\"row_heading level0 row25\" >25</th>\n",
       "      <td id=\"T_9b8e9_row25_col0\" class=\"data row25 col0\" >Experiment Name</td>\n",
       "      <td id=\"T_9b8e9_row25_col1\" class=\"data row25 col1\" >clf-default-name</td>\n",
       "    </tr>\n",
       "    <tr>\n",
       "      <th id=\"T_9b8e9_level0_row26\" class=\"row_heading level0 row26\" >26</th>\n",
       "      <td id=\"T_9b8e9_row26_col0\" class=\"data row26 col0\" >USI</td>\n",
       "      <td id=\"T_9b8e9_row26_col1\" class=\"data row26 col1\" >a0da</td>\n",
       "    </tr>\n",
       "  </tbody>\n",
       "</table>\n"
      ],
      "text/plain": [
       "<pandas.io.formats.style.Styler at 0x1c0c18dc5b0>"
      ]
     },
     "metadata": {},
     "output_type": "display_data"
    }
   ],
   "source": [
    "# Se usa PYCARET: librería low-code para aprendizaje automático\n",
    "# Configuración PYCARET\n",
    "# import pycaret classification and init setup\n",
    "from pycaret.classification import *\n",
    "s = setup(data = train_df, target = 'Target', session_id = semilla, normalize= True, remove_outliers = True, feature_selection = True, imputation_type = 'simple', numeric_imputation = 'mean')\n",
    "#s = setup(data = train_df, target = 'Target', session_id = semilla, normalize= False)"
   ]
  },
  {
   "cell_type": "code",
   "execution_count": 125,
   "metadata": {},
   "outputs": [
    {
     "data": {
      "text/html": [],
      "text/plain": [
       "<IPython.core.display.HTML object>"
      ]
     },
     "metadata": {},
     "output_type": "display_data"
    },
    {
     "data": {
      "text/html": [
       "<style type=\"text/css\">\n",
       "#T_71b58 th {\n",
       "  text-align: left;\n",
       "}\n",
       "#T_71b58_row0_col0, #T_71b58_row0_col2, #T_71b58_row0_col3, #T_71b58_row0_col4, #T_71b58_row0_col5, #T_71b58_row0_col6, #T_71b58_row0_col7, #T_71b58_row1_col0, #T_71b58_row1_col2, #T_71b58_row1_col3, #T_71b58_row1_col4, #T_71b58_row1_col5, #T_71b58_row1_col6, #T_71b58_row1_col7, #T_71b58_row2_col0, #T_71b58_row2_col2, #T_71b58_row2_col3, #T_71b58_row2_col4, #T_71b58_row2_col5, #T_71b58_row2_col6, #T_71b58_row2_col7, #T_71b58_row3_col0, #T_71b58_row3_col2, #T_71b58_row3_col3, #T_71b58_row3_col4, #T_71b58_row3_col5, #T_71b58_row3_col6, #T_71b58_row3_col7, #T_71b58_row4_col0, #T_71b58_row4_col1, #T_71b58_row4_col2, #T_71b58_row4_col3, #T_71b58_row4_col4, #T_71b58_row4_col5, #T_71b58_row4_col6, #T_71b58_row4_col7, #T_71b58_row5_col0, #T_71b58_row5_col1, #T_71b58_row5_col2, #T_71b58_row5_col3, #T_71b58_row5_col4, #T_71b58_row5_col5, #T_71b58_row5_col6, #T_71b58_row5_col7, #T_71b58_row6_col0, #T_71b58_row6_col1, #T_71b58_row6_col2, #T_71b58_row6_col3, #T_71b58_row6_col4, #T_71b58_row6_col5, #T_71b58_row6_col6, #T_71b58_row6_col7, #T_71b58_row7_col0, #T_71b58_row7_col1, #T_71b58_row7_col3, #T_71b58_row7_col4, #T_71b58_row7_col5, #T_71b58_row7_col6, #T_71b58_row7_col7, #T_71b58_row8_col0, #T_71b58_row8_col1, #T_71b58_row8_col2, #T_71b58_row8_col3, #T_71b58_row8_col4, #T_71b58_row8_col5, #T_71b58_row8_col6, #T_71b58_row8_col7, #T_71b58_row9_col0, #T_71b58_row9_col1, #T_71b58_row9_col2, #T_71b58_row9_col3, #T_71b58_row9_col5, #T_71b58_row9_col6, #T_71b58_row9_col7, #T_71b58_row10_col0, #T_71b58_row10_col1, #T_71b58_row10_col2, #T_71b58_row10_col3, #T_71b58_row10_col4, #T_71b58_row10_col5, #T_71b58_row11_col0, #T_71b58_row11_col1, #T_71b58_row11_col2, #T_71b58_row11_col3, #T_71b58_row11_col4, #T_71b58_row11_col5, #T_71b58_row11_col6, #T_71b58_row11_col7, #T_71b58_row12_col0, #T_71b58_row12_col1, #T_71b58_row12_col2, #T_71b58_row12_col3, #T_71b58_row12_col4, #T_71b58_row12_col5, #T_71b58_row12_col6, #T_71b58_row12_col7, #T_71b58_row13_col0, #T_71b58_row13_col1, #T_71b58_row13_col2, #T_71b58_row13_col4, #T_71b58_row13_col6, #T_71b58_row13_col7 {\n",
       "  text-align: left;\n",
       "}\n",
       "#T_71b58_row0_col1, #T_71b58_row1_col1, #T_71b58_row2_col1, #T_71b58_row3_col1, #T_71b58_row7_col2, #T_71b58_row9_col4, #T_71b58_row10_col6, #T_71b58_row10_col7, #T_71b58_row13_col3, #T_71b58_row13_col5 {\n",
       "  text-align: left;\n",
       "  background-color: yellow;\n",
       "}\n",
       "#T_71b58_row0_col8, #T_71b58_row1_col8, #T_71b58_row2_col8, #T_71b58_row3_col8, #T_71b58_row4_col8, #T_71b58_row5_col8, #T_71b58_row6_col8, #T_71b58_row7_col8, #T_71b58_row8_col8, #T_71b58_row9_col8, #T_71b58_row10_col8, #T_71b58_row12_col8, #T_71b58_row13_col8 {\n",
       "  text-align: left;\n",
       "  background-color: lightgrey;\n",
       "}\n",
       "#T_71b58_row11_col8 {\n",
       "  text-align: left;\n",
       "  background-color: yellow;\n",
       "  background-color: lightgrey;\n",
       "}\n",
       "</style>\n",
       "<table id=\"T_71b58\">\n",
       "  <thead>\n",
       "    <tr>\n",
       "      <th class=\"blank level0\" >&nbsp;</th>\n",
       "      <th id=\"T_71b58_level0_col0\" class=\"col_heading level0 col0\" >Model</th>\n",
       "      <th id=\"T_71b58_level0_col1\" class=\"col_heading level0 col1\" >Accuracy</th>\n",
       "      <th id=\"T_71b58_level0_col2\" class=\"col_heading level0 col2\" >AUC</th>\n",
       "      <th id=\"T_71b58_level0_col3\" class=\"col_heading level0 col3\" >Recall</th>\n",
       "      <th id=\"T_71b58_level0_col4\" class=\"col_heading level0 col4\" >Prec.</th>\n",
       "      <th id=\"T_71b58_level0_col5\" class=\"col_heading level0 col5\" >F1</th>\n",
       "      <th id=\"T_71b58_level0_col6\" class=\"col_heading level0 col6\" >Kappa</th>\n",
       "      <th id=\"T_71b58_level0_col7\" class=\"col_heading level0 col7\" >MCC</th>\n",
       "      <th id=\"T_71b58_level0_col8\" class=\"col_heading level0 col8\" >TT (Sec)</th>\n",
       "    </tr>\n",
       "  </thead>\n",
       "  <tbody>\n",
       "    <tr>\n",
       "      <th id=\"T_71b58_level0_row0\" class=\"row_heading level0 row0\" >lr</th>\n",
       "      <td id=\"T_71b58_row0_col0\" class=\"data row0 col0\" >Logistic Regression</td>\n",
       "      <td id=\"T_71b58_row0_col1\" class=\"data row0 col1\" >0.9602</td>\n",
       "      <td id=\"T_71b58_row0_col2\" class=\"data row0 col2\" >0.7053</td>\n",
       "      <td id=\"T_71b58_row0_col3\" class=\"data row0 col3\" >0.0000</td>\n",
       "      <td id=\"T_71b58_row0_col4\" class=\"data row0 col4\" >0.0000</td>\n",
       "      <td id=\"T_71b58_row0_col5\" class=\"data row0 col5\" >0.0000</td>\n",
       "      <td id=\"T_71b58_row0_col6\" class=\"data row0 col6\" >0.0000</td>\n",
       "      <td id=\"T_71b58_row0_col7\" class=\"data row0 col7\" >0.0000</td>\n",
       "      <td id=\"T_71b58_row0_col8\" class=\"data row0 col8\" >1.0690</td>\n",
       "    </tr>\n",
       "    <tr>\n",
       "      <th id=\"T_71b58_level0_row1\" class=\"row_heading level0 row1\" >ridge</th>\n",
       "      <td id=\"T_71b58_row1_col0\" class=\"data row1 col0\" >Ridge Classifier</td>\n",
       "      <td id=\"T_71b58_row1_col1\" class=\"data row1 col1\" >0.9602</td>\n",
       "      <td id=\"T_71b58_row1_col2\" class=\"data row1 col2\" >0.7075</td>\n",
       "      <td id=\"T_71b58_row1_col3\" class=\"data row1 col3\" >0.0000</td>\n",
       "      <td id=\"T_71b58_row1_col4\" class=\"data row1 col4\" >0.0000</td>\n",
       "      <td id=\"T_71b58_row1_col5\" class=\"data row1 col5\" >0.0000</td>\n",
       "      <td id=\"T_71b58_row1_col6\" class=\"data row1 col6\" >0.0000</td>\n",
       "      <td id=\"T_71b58_row1_col7\" class=\"data row1 col7\" >0.0000</td>\n",
       "      <td id=\"T_71b58_row1_col8\" class=\"data row1 col8\" >0.3130</td>\n",
       "    </tr>\n",
       "    <tr>\n",
       "      <th id=\"T_71b58_level0_row2\" class=\"row_heading level0 row2\" >ada</th>\n",
       "      <td id=\"T_71b58_row2_col0\" class=\"data row2 col0\" >Ada Boost Classifier</td>\n",
       "      <td id=\"T_71b58_row2_col1\" class=\"data row2 col1\" >0.9602</td>\n",
       "      <td id=\"T_71b58_row2_col2\" class=\"data row2 col2\" >0.7835</td>\n",
       "      <td id=\"T_71b58_row2_col3\" class=\"data row2 col3\" >0.0000</td>\n",
       "      <td id=\"T_71b58_row2_col4\" class=\"data row2 col4\" >0.0000</td>\n",
       "      <td id=\"T_71b58_row2_col5\" class=\"data row2 col5\" >0.0000</td>\n",
       "      <td id=\"T_71b58_row2_col6\" class=\"data row2 col6\" >0.0000</td>\n",
       "      <td id=\"T_71b58_row2_col7\" class=\"data row2 col7\" >0.0000</td>\n",
       "      <td id=\"T_71b58_row2_col8\" class=\"data row2 col8\" >0.7010</td>\n",
       "    </tr>\n",
       "    <tr>\n",
       "      <th id=\"T_71b58_level0_row3\" class=\"row_heading level0 row3\" >dummy</th>\n",
       "      <td id=\"T_71b58_row3_col0\" class=\"data row3 col0\" >Dummy Classifier</td>\n",
       "      <td id=\"T_71b58_row3_col1\" class=\"data row3 col1\" >0.9602</td>\n",
       "      <td id=\"T_71b58_row3_col2\" class=\"data row3 col2\" >0.5000</td>\n",
       "      <td id=\"T_71b58_row3_col3\" class=\"data row3 col3\" >0.0000</td>\n",
       "      <td id=\"T_71b58_row3_col4\" class=\"data row3 col4\" >0.0000</td>\n",
       "      <td id=\"T_71b58_row3_col5\" class=\"data row3 col5\" >0.0000</td>\n",
       "      <td id=\"T_71b58_row3_col6\" class=\"data row3 col6\" >0.0000</td>\n",
       "      <td id=\"T_71b58_row3_col7\" class=\"data row3 col7\" >0.0000</td>\n",
       "      <td id=\"T_71b58_row3_col8\" class=\"data row3 col8\" >0.3210</td>\n",
       "    </tr>\n",
       "    <tr>\n",
       "      <th id=\"T_71b58_level0_row4\" class=\"row_heading level0 row4\" >svm</th>\n",
       "      <td id=\"T_71b58_row4_col0\" class=\"data row4 col0\" >SVM - Linear Kernel</td>\n",
       "      <td id=\"T_71b58_row4_col1\" class=\"data row4 col1\" >0.9601</td>\n",
       "      <td id=\"T_71b58_row4_col2\" class=\"data row4 col2\" >0.5456</td>\n",
       "      <td id=\"T_71b58_row4_col3\" class=\"data row4 col3\" >0.0000</td>\n",
       "      <td id=\"T_71b58_row4_col4\" class=\"data row4 col4\" >0.0000</td>\n",
       "      <td id=\"T_71b58_row4_col5\" class=\"data row4 col5\" >0.0000</td>\n",
       "      <td id=\"T_71b58_row4_col6\" class=\"data row4 col6\" >-0.0001</td>\n",
       "      <td id=\"T_71b58_row4_col7\" class=\"data row4 col7\" >-0.0005</td>\n",
       "      <td id=\"T_71b58_row4_col8\" class=\"data row4 col8\" >0.4240</td>\n",
       "    </tr>\n",
       "    <tr>\n",
       "      <th id=\"T_71b58_level0_row5\" class=\"row_heading level0 row5\" >lda</th>\n",
       "      <td id=\"T_71b58_row5_col0\" class=\"data row5 col0\" >Linear Discriminant Analysis</td>\n",
       "      <td id=\"T_71b58_row5_col1\" class=\"data row5 col1\" >0.9600</td>\n",
       "      <td id=\"T_71b58_row5_col2\" class=\"data row5 col2\" >0.7075</td>\n",
       "      <td id=\"T_71b58_row5_col3\" class=\"data row5 col3\" >0.0000</td>\n",
       "      <td id=\"T_71b58_row5_col4\" class=\"data row5 col4\" >0.0000</td>\n",
       "      <td id=\"T_71b58_row5_col5\" class=\"data row5 col5\" >0.0000</td>\n",
       "      <td id=\"T_71b58_row5_col6\" class=\"data row5 col6\" >-0.0004</td>\n",
       "      <td id=\"T_71b58_row5_col7\" class=\"data row5 col7\" >-0.0013</td>\n",
       "      <td id=\"T_71b58_row5_col8\" class=\"data row5 col8\" >0.3120</td>\n",
       "    </tr>\n",
       "    <tr>\n",
       "      <th id=\"T_71b58_level0_row6\" class=\"row_heading level0 row6\" >lightgbm</th>\n",
       "      <td id=\"T_71b58_row6_col0\" class=\"data row6 col0\" >Light Gradient Boosting Machine</td>\n",
       "      <td id=\"T_71b58_row6_col1\" class=\"data row6 col1\" >0.9595</td>\n",
       "      <td id=\"T_71b58_row6_col2\" class=\"data row6 col2\" >0.7767</td>\n",
       "      <td id=\"T_71b58_row6_col3\" class=\"data row6 col3\" >0.0000</td>\n",
       "      <td id=\"T_71b58_row6_col4\" class=\"data row6 col4\" >0.0000</td>\n",
       "      <td id=\"T_71b58_row6_col5\" class=\"data row6 col5\" >0.0000</td>\n",
       "      <td id=\"T_71b58_row6_col6\" class=\"data row6 col6\" >-0.0013</td>\n",
       "      <td id=\"T_71b58_row6_col7\" class=\"data row6 col7\" >-0.0039</td>\n",
       "      <td id=\"T_71b58_row6_col8\" class=\"data row6 col8\" >0.4430</td>\n",
       "    </tr>\n",
       "    <tr>\n",
       "      <th id=\"T_71b58_level0_row7\" class=\"row_heading level0 row7\" >gbc</th>\n",
       "      <td id=\"T_71b58_row7_col0\" class=\"data row7 col0\" >Gradient Boosting Classifier</td>\n",
       "      <td id=\"T_71b58_row7_col1\" class=\"data row7 col1\" >0.9592</td>\n",
       "      <td id=\"T_71b58_row7_col2\" class=\"data row7 col2\" >0.7974</td>\n",
       "      <td id=\"T_71b58_row7_col3\" class=\"data row7 col3\" >0.0014</td>\n",
       "      <td id=\"T_71b58_row7_col4\" class=\"data row7 col4\" >0.0333</td>\n",
       "      <td id=\"T_71b58_row7_col5\" class=\"data row7 col5\" >0.0026</td>\n",
       "      <td id=\"T_71b58_row7_col6\" class=\"data row7 col6\" >0.0005</td>\n",
       "      <td id=\"T_71b58_row7_col7\" class=\"data row7 col7\" >0.0010</td>\n",
       "      <td id=\"T_71b58_row7_col8\" class=\"data row7 col8\" >0.7780</td>\n",
       "    </tr>\n",
       "    <tr>\n",
       "      <th id=\"T_71b58_level0_row8\" class=\"row_heading level0 row8\" >knn</th>\n",
       "      <td id=\"T_71b58_row8_col0\" class=\"data row8 col0\" >K Neighbors Classifier</td>\n",
       "      <td id=\"T_71b58_row8_col1\" class=\"data row8 col1\" >0.9578</td>\n",
       "      <td id=\"T_71b58_row8_col2\" class=\"data row8 col2\" >0.6083</td>\n",
       "      <td id=\"T_71b58_row8_col3\" class=\"data row8 col3\" >0.0161</td>\n",
       "      <td id=\"T_71b58_row8_col4\" class=\"data row8 col4\" >0.1786</td>\n",
       "      <td id=\"T_71b58_row8_col5\" class=\"data row8 col5\" >0.0293</td>\n",
       "      <td id=\"T_71b58_row8_col6\" class=\"data row8 col6\" >0.0229</td>\n",
       "      <td id=\"T_71b58_row8_col7\" class=\"data row8 col7\" >0.0422</td>\n",
       "      <td id=\"T_71b58_row8_col8\" class=\"data row8 col8\" >0.6330</td>\n",
       "    </tr>\n",
       "    <tr>\n",
       "      <th id=\"T_71b58_level0_row9\" class=\"row_heading level0 row9\" >rf</th>\n",
       "      <td id=\"T_71b58_row9_col0\" class=\"data row9 col0\" >Random Forest Classifier</td>\n",
       "      <td id=\"T_71b58_row9_col1\" class=\"data row9 col1\" >0.9540</td>\n",
       "      <td id=\"T_71b58_row9_col2\" class=\"data row9 col2\" >0.7137</td>\n",
       "      <td id=\"T_71b58_row9_col3\" class=\"data row9 col3\" >0.0511</td>\n",
       "      <td id=\"T_71b58_row9_col4\" class=\"data row9 col4\" >0.1955</td>\n",
       "      <td id=\"T_71b58_row9_col5\" class=\"data row9 col5\" >0.0808</td>\n",
       "      <td id=\"T_71b58_row9_col6\" class=\"data row9 col6\" >0.0656</td>\n",
       "      <td id=\"T_71b58_row9_col7\" class=\"data row9 col7\" >0.0817</td>\n",
       "      <td id=\"T_71b58_row9_col8\" class=\"data row9 col8\" >0.6560</td>\n",
       "    </tr>\n",
       "    <tr>\n",
       "      <th id=\"T_71b58_level0_row10\" class=\"row_heading level0 row10\" >et</th>\n",
       "      <td id=\"T_71b58_row10_col0\" class=\"data row10 col0\" >Extra Trees Classifier</td>\n",
       "      <td id=\"T_71b58_row10_col1\" class=\"data row10 col1\" >0.9478</td>\n",
       "      <td id=\"T_71b58_row10_col2\" class=\"data row10 col2\" >0.6549</td>\n",
       "      <td id=\"T_71b58_row10_col3\" class=\"data row10 col3\" >0.0808</td>\n",
       "      <td id=\"T_71b58_row10_col4\" class=\"data row10 col4\" >0.1729</td>\n",
       "      <td id=\"T_71b58_row10_col5\" class=\"data row10 col5\" >0.1094</td>\n",
       "      <td id=\"T_71b58_row10_col6\" class=\"data row10 col6\" >0.0862</td>\n",
       "      <td id=\"T_71b58_row10_col7\" class=\"data row10 col7\" >0.0932</td>\n",
       "      <td id=\"T_71b58_row10_col8\" class=\"data row10 col8\" >0.5490</td>\n",
       "    </tr>\n",
       "    <tr>\n",
       "      <th id=\"T_71b58_level0_row11\" class=\"row_heading level0 row11\" >nb</th>\n",
       "      <td id=\"T_71b58_row11_col0\" class=\"data row11 col0\" >Naive Bayes</td>\n",
       "      <td id=\"T_71b58_row11_col1\" class=\"data row11 col1\" >0.9350</td>\n",
       "      <td id=\"T_71b58_row11_col2\" class=\"data row11 col2\" >0.6871</td>\n",
       "      <td id=\"T_71b58_row11_col3\" class=\"data row11 col3\" >0.0337</td>\n",
       "      <td id=\"T_71b58_row11_col4\" class=\"data row11 col4\" >0.0478</td>\n",
       "      <td id=\"T_71b58_row11_col5\" class=\"data row11 col5\" >0.0391</td>\n",
       "      <td id=\"T_71b58_row11_col6\" class=\"data row11 col6\" >0.0069</td>\n",
       "      <td id=\"T_71b58_row11_col7\" class=\"data row11 col7\" >0.0070</td>\n",
       "      <td id=\"T_71b58_row11_col8\" class=\"data row11 col8\" >0.2870</td>\n",
       "    </tr>\n",
       "    <tr>\n",
       "      <th id=\"T_71b58_level0_row12\" class=\"row_heading level0 row12\" >qda</th>\n",
       "      <td id=\"T_71b58_row12_col0\" class=\"data row12 col0\" >Quadratic Discriminant Analysis</td>\n",
       "      <td id=\"T_71b58_row12_col1\" class=\"data row12 col1\" >0.9318</td>\n",
       "      <td id=\"T_71b58_row12_col2\" class=\"data row12 col2\" >0.6955</td>\n",
       "      <td id=\"T_71b58_row12_col3\" class=\"data row12 col3\" >0.0310</td>\n",
       "      <td id=\"T_71b58_row12_col4\" class=\"data row12 col4\" >0.0380</td>\n",
       "      <td id=\"T_71b58_row12_col5\" class=\"data row12 col5\" >0.0338</td>\n",
       "      <td id=\"T_71b58_row12_col6\" class=\"data row12 col6\" >-0.0006</td>\n",
       "      <td id=\"T_71b58_row12_col7\" class=\"data row12 col7\" >-0.0008</td>\n",
       "      <td id=\"T_71b58_row12_col8\" class=\"data row12 col8\" >0.3820</td>\n",
       "    </tr>\n",
       "    <tr>\n",
       "      <th id=\"T_71b58_level0_row13\" class=\"row_heading level0 row13\" >dt</th>\n",
       "      <td id=\"T_71b58_row13_col0\" class=\"data row13 col0\" >Decision Tree Classifier</td>\n",
       "      <td id=\"T_71b58_row13_col1\" class=\"data row13 col1\" >0.9306</td>\n",
       "      <td id=\"T_71b58_row13_col2\" class=\"data row13 col2\" >0.5585</td>\n",
       "      <td id=\"T_71b58_row13_col3\" class=\"data row13 col3\" >0.1157</td>\n",
       "      <td id=\"T_71b58_row13_col4\" class=\"data row13 col4\" >0.1190</td>\n",
       "      <td id=\"T_71b58_row13_col5\" class=\"data row13 col5\" >0.1169</td>\n",
       "      <td id=\"T_71b58_row13_col6\" class=\"data row13 col6\" >0.0809</td>\n",
       "      <td id=\"T_71b58_row13_col7\" class=\"data row13 col7\" >0.0810</td>\n",
       "      <td id=\"T_71b58_row13_col8\" class=\"data row13 col8\" >0.3050</td>\n",
       "    </tr>\n",
       "  </tbody>\n",
       "</table>\n"
      ],
      "text/plain": [
       "<pandas.io.formats.style.Styler at 0x1c0b4d2d120>"
      ]
     },
     "metadata": {},
     "output_type": "display_data"
    },
    {
     "data": {
      "text/html": [],
      "text/plain": [
       "<IPython.core.display.HTML object>"
      ]
     },
     "metadata": {},
     "output_type": "display_data"
    }
   ],
   "source": [
    "# compare baseline models\n",
    "best = compare_models()"
   ]
  },
  {
   "cell_type": "code",
   "execution_count": 126,
   "metadata": {},
   "outputs": [
    {
     "data": {
      "text/html": [],
      "text/plain": [
       "<IPython.core.display.HTML object>"
      ]
     },
     "metadata": {},
     "output_type": "display_data"
    },
    {
     "data": {
      "image/png": "[encoded data removed]",
      "text/plain": [
       "<Figure size 800x550 with 1 Axes>"
      ]
     },
     "metadata": {},
     "output_type": "display_data"
    }
   ],
   "source": [
    "# plot confusion matrix\n",
    "plot_model(best, plot = 'confusion_matrix')"
   ]
  },
  {
   "cell_type": "code",
   "execution_count": 127,
   "metadata": {},
   "outputs": [
    {
     "data": {
      "text/html": [],
      "text/plain": [
       "<IPython.core.display.HTML object>"
      ]
     },
     "metadata": {},
     "output_type": "display_data"
    },
    {
     "data": {
      "image/png": "[encoded data removed]",
      "text/plain": [
       "<Figure size 800x550 with 1 Axes>"
      ]
     },
     "metadata": {},
     "output_type": "display_data"
    }
   ],
   "source": [
    "# plot AUC\n",
    "plot_model(best, plot = 'auc')"
   ]
  },
  {
   "cell_type": "code",
   "execution_count": 128,
   "metadata": {},
   "outputs": [
    {
     "data": {
      "text/html": [],
      "text/plain": [
       "<IPython.core.display.HTML object>"
      ]
     },
     "metadata": {},
     "output_type": "display_data"
    },
    {
     "data": {
      "image/png": "[encoded data removed]",
      "text/plain": [
       "<Figure size 800x500 with 1 Axes>"
      ]
     },
     "metadata": {},
     "output_type": "display_data"
    }
   ],
   "source": [
    "# plot feature importance\n",
    "plot_model(best, plot = 'feature')"
   ]
  }
 ],
 "metadata": {
  "kernelspec": {
   "display_name": "NTT",
   "language": "python",
   "name": "python3"
  },
  "language_info": {
   "codemirror_mode": {
    "name": "ipython",
    "version": 3
   },
   "file_extension": ".py",
   "mimetype": "text/x-python",
   "name": "python",
   "nbconvert_exporter": "python",
   "pygments_lexer": "ipython3",
   "version": "3.10.16"
  }
 },
 "nbformat": 4,
 "nbformat_minor": 2
}
